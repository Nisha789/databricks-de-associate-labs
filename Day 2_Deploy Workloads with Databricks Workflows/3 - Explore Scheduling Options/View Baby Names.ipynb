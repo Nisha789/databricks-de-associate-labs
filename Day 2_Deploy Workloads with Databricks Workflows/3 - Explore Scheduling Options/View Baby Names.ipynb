{
 "cells": [
  {
   "cell_type": "markdown",
   "metadata": {
    "application/vnd.databricks.v1+cell": {
     "cellMetadata": {},
     "inputWidgets": {},
     "nuid": "b23d5cd8-6987-4544-80ce-cd88dc286600",
     "showTitle": false,
     "tableResultSettingsMap": {},
     "title": ""
    }
   },
   "source": [
    "\n",
    "<div style=\"text-align: center; line-height: 0; padding-top: 9px;\">\n",
    "  <img src=\"https://databricks.com/wp-content/uploads/2018/03/db-academy-rgb-1200px.png\" alt=\"Databricks Learning\">\n",
    "</div>\n"
   ]
  },
  {
   "cell_type": "code",
   "execution_count": 0,
   "metadata": {
    "application/vnd.databricks.v1+cell": {
     "cellMetadata": {},
     "inputWidgets": {},
     "nuid": "3059896a-9ed2-4345-b691-9d206d4c6d15",
     "showTitle": false,
     "tableResultSettingsMap": {},
     "title": ""
    }
   },
   "outputs": [],
   "source": [
    "## Creates a text input widget in the notebook using the parameter.\n",
    "dbutils.widgets.text(name='catalog', defaultValue='')\n",
    "dbutils.widgets.text(name='schema', defaultValue='')\n",
    "\n",
    "## Store the values from the text input widgets into variables\n",
    "my_catalog = dbutils.widgets.get('catalog')\n",
    "my_schema = dbutils.widgets.get('schema')\n",
    "\n",
    "## Set path to your volume\n",
    "my_volume_path = f\"/Volumes/{my_catalog}/{my_schema}/trigger_storage_location/\"\n",
    "\n",
    "## Display the variables\n",
    "print(my_catalog)\n",
    "print(my_schema)\n",
    "print(my_volume_path)"
   ]
  },
  {
   "cell_type": "code",
   "execution_count": 0,
   "metadata": {
    "application/vnd.databricks.v1+cell": {
     "cellMetadata": {},
     "inputWidgets": {},
     "nuid": "0eb565ea-2d3e-49a2-b358-e99d1b604c01",
     "showTitle": false,
     "tableResultSettingsMap": {},
     "title": ""
    }
   },
   "outputs": [],
   "source": [
    "\n",
    "\n",
    "## Load the babynames.csv file from the volume\n",
    "babynames = (spark\n",
    "             .read\n",
    "             .format(\"csv\")\n",
    "             .option(\"header\", \"true\")\n",
    "             .option(\"inferSchema\", \"true\")\n",
    "             .load(f'{my_volume_path}babynames.csv')\n",
    ")\n",
    "\n",
    "## Display 2014 names\n",
    "display(babynames.filter(babynames.Year == \"2014\"))"
   ]
  },
  {
   "cell_type": "markdown",
   "metadata": {
    "application/vnd.databricks.v1+cell": {
     "cellMetadata": {},
     "inputWidgets": {},
     "nuid": "79e9ddce-3551-4eed-810d-2c9a4bc1b31f",
     "showTitle": false,
     "tableResultSettingsMap": {},
     "title": ""
    }
   },
   "source": [
    "\n",
    "&copy; 2025 Databricks, Inc. All rights reserved.<br/>\n",
    "Apache, Apache Spark, Spark, the Spark Logo, Apache Iceberg, Iceberg, and the Apache Iceberg logo are trademarks of the <a href=\"https://www.apache.org/\">Apache Software Foundation</a>.<br/>\n",
    "<br/><a href=\"https://databricks.com/privacy-policy\">Privacy Policy</a> | \n",
    "<a href=\"https://databricks.com/terms-of-use\">Terms of Use</a> | \n",
    "<a href=\"https://help.databricks.com/\">Support</a>"
   ]
  }
 ],
 "metadata": {
  "application/vnd.databricks.v1+notebook": {
   "computePreferences": null,
   "dashboards": [],
   "environmentMetadata": null,
   "inputWidgetPreferences": null,
   "language": "python",
   "notebookMetadata": {
    "pythonIndentUnit": 4
   },
   "notebookName": "View Baby Names",
   "widgets": {}
  },
  "language_info": {
   "name": "python"
  }
 },
 "nbformat": 4,
 "nbformat_minor": 0
}