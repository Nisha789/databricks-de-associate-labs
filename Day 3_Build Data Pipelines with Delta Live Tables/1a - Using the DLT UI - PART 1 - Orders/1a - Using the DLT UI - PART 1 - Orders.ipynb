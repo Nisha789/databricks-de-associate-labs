{
 "cells": [
  {
   "cell_type": "markdown",
   "metadata": {
    "application/vnd.databricks.v1+cell": {
     "cellMetadata": {},
     "inputWidgets": {},
     "nuid": "3c948353-c140-445c-bb78-eb34488f3c88",
     "showTitle": false,
     "tableResultSettingsMap": {},
     "title": ""
    }
   },
   "source": [
    "\n",
    "<div style=\"text-align: center; line-height: 0; padding-top: 9px;\">\n",
    "  <img src=\"https://databricks.com/wp-content/uploads/2018/03/db-academy-rgb-1200px.png\" alt=\"Databricks Learning\">\n",
    "</div>\n"
   ]
  },
  {
   "cell_type": "markdown",
   "metadata": {
    "application/vnd.databricks.v1+cell": {
     "cellMetadata": {},
     "inputWidgets": {},
     "nuid": "46e8b042-edc2-4bad-ad0f-1626f24c9b63",
     "showTitle": false,
     "tableResultSettingsMap": {},
     "title": ""
    }
   },
   "source": [
    "# Using the Delta Live Tables UI - PART 1 - Orders\n",
    "\n",
    "This demo will explore the DLT UI. By the end of this lesson you will be able to: \n",
    "\n",
    "* Deploy a DLT pipeline\n",
    "* Explore the resultant DAG\n",
    "* Execute an update of the pipeline\n",
    "\n",
    "This demonstration will focus on using SQL code with DLT. Python notebooks are available that replicate the SQL code."
   ]
  },
  {
   "cell_type": "markdown",
   "metadata": {
    "application/vnd.databricks.v1+cell": {
     "cellMetadata": {},
     "inputWidgets": {},
     "nuid": "072437cb-ba4b-48f5-b115-a88d09bb9d6e",
     "showTitle": false,
     "tableResultSettingsMap": {},
     "title": ""
    }
   },
   "source": [
    "## REQUIRED - SELECT CLASSIC COMPUTE\n",
    "\n",
    "Before executing cells in this notebook, please select your classic compute cluster in the lab. Be aware that **Serverless** is enabled by default.\n",
    "\n",
    "Follow these steps to select the classic compute cluster:\n",
    "\n",
    "1. Navigate to the top-right of this notebook and click the drop-down menu to select your cluster. By default, the notebook will use **Serverless**.\n",
    "\n",
    "1. If your cluster is available, select it and continue to the next cell. If the cluster is not shown:\n",
    "\n",
    "  - In the drop-down, select **More**.\n",
    "\n",
    "  - In the **Attach to an existing compute resource** pop-up, select the first drop-down. You will see a unique cluster name in that drop-down. Please select that cluster.\n",
    "\n",
    "**NOTE:** If your cluster has terminated, you might need to restart it in order to select it. To do this:\n",
    "\n",
    "1. Right-click on **Compute** in the left navigation pane and select *Open in new tab*.\n",
    "\n",
    "1. Find the triangle icon to the right of your compute cluster name and click it.\n",
    "\n",
    "1. Wait a few minutes for the cluster to start.\n",
    "\n",
    "1. Once the cluster is running, complete the steps above to select your cluster."
   ]
  },
  {
   "cell_type": "markdown",
   "metadata": {
    "application/vnd.databricks.v1+cell": {
     "cellMetadata": {},
     "inputWidgets": {},
     "nuid": "ba79a020-a227-4414-a85e-d2b55b876b35",
     "showTitle": false,
     "tableResultSettingsMap": {},
     "title": ""
    }
   },
   "source": [
    "## A. Classroom Setup\n",
    "\n",
    "Run the following cell to configure your working environment for this course. It will also set your default catalog to **dbacademy** and the schema to your specific schema name shown below using the `USE` statements.\n",
    "<br></br>\n",
    "\n",
    "\n",
    "```\n",
    "USE CATALOG dbacademy;\n",
    "USE SCHEMA dbacademy.<your unique schema name>;\n",
    "```\n",
    "\n",
    "**NOTE:** The `DA` object is only used in Databricks Academy courses and is not available outside of these courses. It will dynamically reference the information needed to run the course."
   ]
  },
  {
   "cell_type": "code",
   "execution_count": 0,
   "metadata": {
    "application/vnd.databricks.v1+cell": {
     "cellMetadata": {
      "byteLimit": 2048000,
      "rowLimit": 10000
     },
     "inputWidgets": {},
     "nuid": "c857edf5-5a3b-404b-953e-ace8782c1405",
     "showTitle": false,
     "tableResultSettingsMap": {},
     "title": ""
    }
   },
   "outputs": [
    {
     "output_type": "stream",
     "name": "stdout",
     "output_type": "stream",
     "text": [
      "\u001B[43mNote: you may need to restart the kernel using %restart_python or dbutils.library.restartPython() to use updated packages.\u001B[0m\n"
     ]
    },
    {
     "output_type": "stream",
     "name": "stdout",
     "output_type": "stream",
     "text": [
      "Loading batch 1 of 31...2 seconds\n"
     ]
    },
    {
     "output_type": "execute_result",
     "data": {
      "text/plain": [
       "True"
      ]
     },
     "execution_count": 15,
     "metadata": {},
     "output_type": "execute_result"
    }
   ],
   "source": [
    "%run ./Includes/Classroom-Setup-1"
   ]
  },
  {
   "cell_type": "markdown",
   "metadata": {
    "application/vnd.databricks.v1+cell": {
     "cellMetadata": {},
     "inputWidgets": {},
     "nuid": "0655a6b4-5f5b-4661-8575-e8c2a1f52bf8",
     "showTitle": false,
     "tableResultSettingsMap": {},
     "title": ""
    }
   },
   "source": [
    "## B. Explore Available Raw Files"
   ]
  },
  {
   "cell_type": "markdown",
   "metadata": {
    "application/vnd.databricks.v1+cell": {
     "cellMetadata": {},
     "inputWidgets": {},
     "nuid": "484a959c-c888-410a-be92-63f8abcee259",
     "showTitle": false,
     "tableResultSettingsMap": {},
     "title": ""
    }
   },
   "source": [
    "Complete the following steps to explore the available raw data files that will be used for the DLT pipeline:\n",
    "\n",
    "1. Navigate to the available catalogs by selecting the catalog icon directly to the left of the notebook (do not select the **Catalog** text in the far left navigation bar).\n",
    "\n",
    "2. Expand the **dbacademy** catalog.\n",
    "\n",
    "3. Expand the **ops** schema.\n",
    "\n",
    "4. Expand the **Volumes** within the **ops** schema.\n",
    "\n",
    "5. Expand the volume that contains your **unique username**.\n",
    "\n",
    "6. Expand the **stream-source** directory. Notice that the directory contains three subdirectories: **customers**, **orders**, and **status**.\n",
    "\n",
    "7. Expand each subdirectory. Notice that each contains a JSON file (00.json) with raw data. We will create a DLT pipeline that will ingest the files within this volume to create tables and materialized views for our consumers."
   ]
  },
  {
   "cell_type": "markdown",
   "metadata": {
    "application/vnd.databricks.v1+cell": {
     "cellMetadata": {},
     "inputWidgets": {},
     "nuid": "6e31cdf5-d4c8-4ff6-b845-1a23547483c4",
     "showTitle": false,
     "tableResultSettingsMap": {},
     "title": ""
    }
   },
   "source": [
    "## C. Generate Pipeline Configuration\n",
    "**Delta Live Tables (DLT) pipelines can be written in either SQL or python**. In this course, we have written examples in both languages. In the code cell below, note that we are first going to look at the SQL example. \n",
    "\n",
    "We are going to manually configure a pipeline using the DLT UI. Configuring this pipeline will require parameters unique to a given user. Run the cell to print out values you'll use to configure your pipeline in subsequent steps."
   ]
  },
  {
   "cell_type": "code",
   "execution_count": 0,
   "metadata": {
    "application/vnd.databricks.v1+cell": {
     "cellMetadata": {
      "byteLimit": 2048000,
      "rowLimit": 10000
     },
     "inputWidgets": {},
     "nuid": "092a44a6-4d5e-4207-aa98-8ced47e1812d",
     "showTitle": false,
     "tableResultSettingsMap": {},
     "title": ""
    }
   },
   "outputs": [
    {
     "output_type": "stream",
     "name": "stdout",
     "output_type": "stream",
     "text": [
      "labuser10369179_1748065139: Example Pipeline\n"
     ]
    },
    {
     "output_type": "display_data",
     "data": {
      "text/html": [
       "<table style=\"width:100%\">\n",
       "            <tr>\n",
       "                <td style=\"white-space:nowrap; width:1em\">Pipeline Name:</td>\n",
       "                <td><input type=\"text\" value=\"labuser10369179_1748065139: Example Pipeline\" style=\"width: 100%\"></td></tr>\n",
       "            <tr>\n",
       "                <td style=\"white-space:nowrap; width:1em\">Notebook #1 Path:</td>\n",
       "                <td><input type=\"text\" value=\"/Users/labuser10369179_1748065139@vocareum.com/build-data-pipelines-with-delta-live-tables-2.1.3/Build Data Pipelines with Delta Live Tables/2A - SQL Pipelines/1 - Orders Pipeline\" style=\"width: 100%\"></td></tr>\n",
       "            <tr>\n",
       "                <td style=\"white-space:nowrap; width:1em\">Notebook #2 Path:</td>\n",
       "                <td><input type=\"text\" value=\"/Users/labuser10369179_1748065139@vocareum.com/build-data-pipelines-with-delta-live-tables-2.1.3/Build Data Pipelines with Delta Live Tables/2A - SQL Pipelines/2 - Customers Pipeline\" style=\"width: 100%\"></td></tr>\n",
       "            <tr>\n",
       "                <td style=\"white-space:nowrap; width:1em\">Notebook #3 Path:</td>\n",
       "                <td><input type=\"text\" value=\"/Users/labuser10369179_1748065139@vocareum.com/build-data-pipelines-with-delta-live-tables-2.1.3/Build Data Pipelines with Delta Live Tables/2A - SQL Pipelines/3L - Status Pipeline Lab\" style=\"width: 100%\"></td></tr>\n",
       "            <tr>\n",
       "                <td style=\"white-space:nowrap; width:1em\">Default Catalog:</td>\n",
       "                <td><input type=\"text\" value=\"dbacademy\" style=\"width: 100%\"></td></tr>\n",
       "            <tr>\n",
       "                <td style=\"white-space:nowrap; width:1em\">Default Schema:</td>\n",
       "                <td><input type=\"text\" value=\"labuser10369179_1748065139\" style=\"width: 100%\"></td></tr>\n",
       "            <tr>\n",
       "                <td style=\"white-space:nowrap; width:1em\">Source:</td>\n",
       "                <td><input type=\"text\" value=\"/Volumes/dbacademy/ops/labuser10369179_1748065139@vocareum_com/stream-source\" style=\"width: 100%\"></td></tr></table>"
      ]
     },
     "metadata": {},
     "output_type": "display_data"
    }
   ],
   "source": [
    "pipeline_language = \"SQL\"\n",
    "# pipeline_language = \"Python\"\n",
    "\n",
    "DA.print_pipeline_config(pipeline_language)"
   ]
  },
  {
   "cell_type": "markdown",
   "metadata": {
    "application/vnd.databricks.v1+cell": {
     "cellMetadata": {},
     "inputWidgets": {},
     "nuid": "65907fd8-7fe3-4e54-b6f9-90b29e7b9316",
     "showTitle": false,
     "tableResultSettingsMap": {},
     "title": ""
    }
   },
   "source": [
    "## PART 1 - Add a Single Notebook to a DLT Pipeline"
   ]
  },
  {
   "cell_type": "markdown",
   "metadata": {
    "application/vnd.databricks.v1+cell": {
     "cellMetadata": {},
     "inputWidgets": {},
     "nuid": "bcf6d1a3-b74d-4e68-851f-ea6394caded1",
     "showTitle": false,
     "tableResultSettingsMap": {},
     "title": ""
    }
   },
   "source": [
    "### PART 1.1 - Create and Configure a Pipeline\n",
    "\n",
    "Complete the following steps to configure the pipeline.\n",
    "\n",
    "1. Open the **Pipelines** UI:\n",
    "    - Find **Pipelines** under the **Data Engineering** section in the left navigation bar.\n",
    "    - Right click on **Pipelines** to select *Open Link in a New Tab*. Make sure to open it in a new tab so you can continue to follow along this notebook.\n",
    "\n",
    "2. Click **Create pipeline** in the upper-right corner and Select **ETL Pipeline** to create a DLT pipeline.\n",
    "\n",
    "3. Configure the pipeline as specified below. You'll need the values provided in the cell output above for this step.\n",
    "\n",
    "| Setting | Instructions |\n",
    "|--|--|\n",
    "| Pipeline name | Enter the **Pipeline Name** provided above |\n",
    "| Serverless | Choose **Serverless** |\n",
    "| Product edition (not needed with Serverless) | Choose **Advanced**  |\n",
    "| Pipeline mode | Choose **Triggered** |\n",
    "| Paths| Use the navigator to select or enter the path for ONLY **Notebook #1** from the cell provided above |\n",
    "| Storage options | Choose **Unity Catalog** (should already be selected by default)  |\n",
    "| Default Catalog | Choose your **Default Catalog** provided above (**dbacademy**) |\n",
    "| Default schema | Choose your **Default schema** provided above (your unique schema name) |\n",
    "| Configuration | Click **Add Configuration** and input the **Key** and **Value** using the table below |\n",
    "| Channel | Choose **Current** |\n",
    "\n",
    "#### Configuration Details\n",
    "**NOTE:** The **source** key references the path to your raw files which reside in your volume. The **source** variable will be used in your notebooks to dynamically reference the volume location: \n",
    "- Source Volume Path Example: */Volumes/dbacademy/ops/\\<your-unique-user-name-from-cell-above>/stream-source*\n",
    "\n",
    "| Key                 | Value                                      |\n",
    "| ------------------- | ------------------------------------------ |\n",
    "| **`source`** | Enter the **Source** provided in the previous code cell |\n",
    "\n",
    "\n",
    "</br>\n",
    "\n",
    "4. Click the **Create** button to create the DLT pipeline. Leave the Pipelines UI open."
   ]
  },
  {
   "cell_type": "markdown",
   "metadata": {
    "application/vnd.databricks.v1+cell": {
     "cellMetadata": {},
     "inputWidgets": {},
     "nuid": "8c28dd24-d1d3-42db-aa97-787aa8aed049",
     "showTitle": false,
     "tableResultSettingsMap": {},
     "title": ""
    }
   },
   "source": [
    "### PART 1.2 - Check Your Pipeline Configuration\n",
    "\n",
    "![new_pipeline_editor](files/images/build-data-pipelines-with-delta-live-tables-2.1.3/new_pipeline_editor.png)\n",
    "\n",
    "1. If necessary, in the Databricks workspace open the Pipelines (DLT) UI (**Workflows** -> **Pipelines**) and open your DLT pipeline.\n",
    "\n",
    "2. Select **Settings** to access your pipeline configuration. \n",
    "\n",
    "3. Review the pipeline configuration settings to ensure they are correctly configured according to the provided instructions.\n",
    "\n",
    "4. Once you've confirmed that the pipeline configuration is set up correctly and the maintenance cluster has been removed, proceed to the next steps for validating and running the pipeline.\n",
    "\n",
    "5. Click **Save** in the bottom right corner.\n",
    "\n",
    "**NOTE:** If you accidently enabled the new editor you can disable it by:\n",
    "  - Going to your user icon at the top right.\n",
    "  - Select **Settings**\n",
    "  - Select **Developer**\n",
    "  - Scroll to the bottom and turn off the following:\n",
    "\n",
    "  ![turn_off_editor](files/images/build-data-pipelines-with-delta-live-tables-2.1.3/turn_off_editor.png)"
   ]
  },
  {
   "cell_type": "markdown",
   "metadata": {
    "application/vnd.databricks.v1+cell": {
     "cellMetadata": {},
     "inputWidgets": {},
     "nuid": "33894526-cd5c-44db-898a-d8b8a53d7c19",
     "showTitle": false,
     "tableResultSettingsMap": {},
     "title": ""
    }
   },
   "source": [
    "Run the following cell to check if the pipeline has been set up correctly for the demonstration. This is a custom method specifically built for this course. Fix any specified issues if required."
   ]
  },
  {
   "cell_type": "code",
   "execution_count": 0,
   "metadata": {
    "application/vnd.databricks.v1+cell": {
     "cellMetadata": {
      "byteLimit": 2048000,
      "rowLimit": 10000
     },
     "inputWidgets": {},
     "nuid": "cc3a46a5-1d51-4eb0-9767-79dd06bdddba",
     "showTitle": false,
     "tableResultSettingsMap": {},
     "title": ""
    }
   },
   "outputs": [
    {
     "output_type": "stream",
     "name": "stdout",
     "output_type": "stream",
     "text": [
      "labuser10369179_1748065139: Example Pipeline\nPipeline validation complete. No errors found.\n"
     ]
    }
   ],
   "source": [
    "DA.validate_pipeline_config(pipeline_language, num_notebooks=1)"
   ]
  },
  {
   "cell_type": "markdown",
   "metadata": {
    "application/vnd.databricks.v1+cell": {
     "cellMetadata": {},
     "inputWidgets": {},
     "nuid": "3e1f0d93-9c0b-45a9-83f0-c6b85bbbf86c",
     "showTitle": false,
     "tableResultSettingsMap": {},
     "title": ""
    }
   },
   "source": [
    "#### NOTE - Additional Notes on Pipeline Configuration\n",
    "Here are a few notes regarding the pipeline settings above:\n",
    "\n",
    "- **Pipeline mode** - This specifies how the pipeline will be run. Choose the mode based on latency and cost requirements.\n",
    "  - **`Triggered`** pipelines run once and then shut down until the next manual or scheduled update.\n",
    "  - **`Continuous`** pipelines run continuously, ingesting new data as it arrives.\n",
    "- **Notebook libraries** - Even though these documents are standard Databricks Notebooks, the SQL syntax is specialized to DLT table declarations. We will be exploring the syntax in the exercise that follows.\n",
    "- **Storage location** - This optional field allows the user to specify a location to store logs, tables, and other information related to pipeline execution. If not specified, DLT will automatically generate a directory.\n",
    "- **Catalog and Default schema** - These parameters are necessary to make data available outside the pipeline.\n",
    "- **Configuration variables** - Key-value pairs that we add here will be passed to the notebooks used in the pipeline. We will look at the one variable we are using, **`source`**, in the next lesson. Please note that keys are case-sensitive."
   ]
  },
  {
   "cell_type": "markdown",
   "metadata": {
    "application/vnd.databricks.v1+cell": {
     "cellMetadata": {},
     "inputWidgets": {},
     "nuid": "f8633f11-287f-4af2-81a7-62b44c0fe890",
     "showTitle": false,
     "tableResultSettingsMap": {},
     "title": ""
    }
   },
   "source": [
    "### PART 1.3 -  Full Refresh, Validate, Start\n",
    "1. Click the dropdown immediately to the right of the **`Start`** button. There are two additional options (other than \"Start\").\n",
    "\n",
    "  - **Full refresh all** - All live tables are updated to reflect the current state of their input data sources. For all streaming tables, Delta Live Tables attempts to clear all data from each table and then load all data from the streaming source.\n",
    "\n",
    "      --**IMPORTANT NOTE**--  \n",
    "      Because a full refresh clears all data from your current tables and uses the current state of data sources, it is possible for you to lose data if your data sources no longer contain the data you need. Be very careful when running full refreshes.\n",
    "\n",
    " - **Validate** - Builds a directed acyclic graph (DAG) and runs a syntax check but does not actually perform any data updates."
   ]
  },
  {
   "cell_type": "markdown",
   "metadata": {
    "application/vnd.databricks.v1+cell": {
     "cellMetadata": {},
     "inputWidgets": {},
     "nuid": "cb8d27da-98e2-40b7-b062-faf4d66e86fe",
     "showTitle": false,
     "tableResultSettingsMap": {},
     "title": ""
    }
   },
   "source": [
    "### PART 1.4 - Validating Pipelines"
   ]
  },
  {
   "cell_type": "markdown",
   "metadata": {
    "application/vnd.databricks.v1+cell": {
     "cellMetadata": {},
     "inputWidgets": {},
     "nuid": "65d5ec9c-ba96-4dbb-a2ab-050c2cca0150",
     "showTitle": false,
     "tableResultSettingsMap": {},
     "title": ""
    }
   },
   "source": [
    "#### 4a. Validate the Pipeline\n",
    "1. Click the dropdown next to the **`Start`** button and click **`Validate`**. DLT builds a graph in the graph window and generates log entries at the bottom of the window. The pipeline should pass all checks and look similar to the image below.\n",
    "\n",
    "\n",
    "![ValidateOneNotebookDLTPipeline](files/images/build-data-pipelines-with-delta-live-tables-2.1.3/ValidateOneNotebookDLTPipeline.png)"
   ]
  },
  {
   "cell_type": "markdown",
   "metadata": {
    "application/vnd.databricks.v1+cell": {
     "cellMetadata": {},
     "inputWidgets": {},
     "nuid": "dd9ce2f0-b6ee-49de-8db5-14709818924c",
     "showTitle": false,
     "tableResultSettingsMap": {},
     "title": ""
    }
   },
   "source": [
    "#### 4b. Introduce an Error\n",
    "Let's introduce an error:\n",
    "\n",
    "1. In the **`Pipeline details`** section (to the right of the DAG), click the **`Source code`** link. Our first source code notebook is opened in a new window. We will be talking about DLT source code in the next lesson. For now, continue through the next steps.\n",
    " \n",
    "    - You may get a note that this notebook is associated with a pipeline. If you do, click the **\"`x`\"** to dismiss the dialog box.\n",
    "\n",
    "2. Scroll to the first code cell in the notebook and remove the word **`CREATE`** from the SQL command. This will create a syntax error in this notebook.\n",
    "\n",
    "    - Note that we do not need to \"Save\" the notebook.\n",
    "\n",
    "3. Return to the pipeline definition and run **`Validate`** again by clicking the dropdown next to **`Start`** and clicking **`Validate`**.\n",
    "\n",
    "4. The validation fails. Click the log entry marked in red to get more details about the error. We see that there was a syntax error. We can also view the stack trace by clicking the \"+\" button. \n",
    "\n",
    "5. Fix the error we introduced, and re-run **`Validate`**. Confirm there are no errors."
   ]
  },
  {
   "cell_type": "markdown",
   "metadata": {
    "application/vnd.databricks.v1+cell": {
     "cellMetadata": {},
     "inputWidgets": {},
     "nuid": "576c1750-e74c-4920-a9e7-b066bcf2a4fb",
     "showTitle": false,
     "tableResultSettingsMap": {},
     "title": ""
    }
   },
   "source": [
    "### PART 1.5 - Run a Pipeline\n",
    "\n",
    "Now that we have the pipeline validated, let's run it.\n",
    "\n",
    "1. We are running the pipeline in development mode. Development mode provides for more expeditious iterative development by reusing the cluster (as opposed to creating a new cluster for each run) and disabling retries so that you can readily identify and fix errors. Refer to the <a href=\"https://docs.databricks.com/aws/en/dlt/develop#overview-of-dlt-development-features\" target=\"_blank\">documentation</a> for more information on this feature.\n",
    "\n",
    "2. Click **Start** to begin the pipeline run.\n",
    "\n",
    "3. The pipeline will create the data in the **dbacademy** catalog within your unique schema.\n",
    "\n",
    "4. While the DLT pipeline is running, let's examine Notebook **1 - Orders Pipeline** for the specified language and review the code.\n",
    "  - [SQL Notebook 1 - Orders Pipeline]($./2A - SQL Pipelines/1 - Orders Pipeline)\n",
    "  - [Python Notebook 1 - Orders Pipeline]($./2B - Python Pipelines/1 - Orders Pipeline)\n",
    "\n",
    "\n",
    "**NOTE:** We are using Serverless clusters in this course for DLT pipelines. However, if you use a classic compute cluster with the DLT policy, the initial run will take several minutes while a cluster is provisioned. Subsequent runs will be appreciably quicker."
   ]
  },
  {
   "cell_type": "markdown",
   "metadata": {
    "application/vnd.databricks.v1+cell": {
     "cellMetadata": {},
     "inputWidgets": {},
     "nuid": "025c8792-822f-42af-b1ae-11e73782c2db",
     "showTitle": false,
     "tableResultSettingsMap": {},
     "title": ""
    }
   },
   "source": [
    "### PART 1.6 - Explore the DAG\n",
    "\n",
    "As the pipeline completes, the execution flow is graphed. Selecting the streaming tables or materialized views reviews the details.\n",
    "\n",
    "Complete the following:\n",
    "\n",
    "1. Select **orders_silver**. Notice the results reported in the **Data Quality** section. \n",
    "\n",
    "**NOTE:** With each triggered update, all newly arriving data will be processed through your pipeline. Metrics will always be reported for the current run.\n",
    "\n",
    "</br>\n",
    "\n",
    "![RunOneNotebookDLTPipeline](files/images/build-data-pipelines-with-delta-live-tables-2.1.3/RunOneNotebookDLTPipeline.png)"
   ]
  },
  {
   "cell_type": "markdown",
   "metadata": {
    "application/vnd.databricks.v1+cell": {
     "cellMetadata": {},
     "inputWidgets": {},
     "nuid": "682256cb-adeb-4033-a670-c328959f5d33",
     "showTitle": false,
     "tableResultSettingsMap": {},
     "title": ""
    }
   },
   "source": [
    "Leave your Databricks environment open. We will discuss how to implement Change Data Capture (CDC) in DLT and add another notebook to the pipeline."
   ]
  },
  {
   "cell_type": "markdown",
   "metadata": {
    "application/vnd.databricks.v1+cell": {
     "cellMetadata": {},
     "inputWidgets": {},
     "nuid": "4d7892ec-90f2-4f40-b3f7-eddc2f578479",
     "showTitle": false,
     "tableResultSettingsMap": {},
     "title": ""
    }
   },
   "source": [
    "\n",
    "&copy; 2025 Databricks, Inc. All rights reserved.<br/>\n",
    "Apache, Apache Spark, Spark, the Spark Logo, Apache Iceberg, Iceberg, and the Apache Iceberg logo are trademarks of the <a href=\"https://www.apache.org/\">Apache Software Foundation</a>.<br/>\n",
    "<br/><a href=\"https://databricks.com/privacy-policy\">Privacy Policy</a> | \n",
    "<a href=\"https://databricks.com/terms-of-use\">Terms of Use</a> | \n",
    "<a href=\"https://help.databricks.com/\">Support</a>"
   ]
  }
 ],
 "metadata": {
  "application/vnd.databricks.v1+notebook": {
   "computePreferences": null,
   "dashboards": [],
   "environmentMetadata": null,
   "inputWidgetPreferences": null,
   "language": "python",
   "notebookMetadata": {
    "pythonIndentUnit": 4
   },
   "notebookName": "1a - Using the DLT UI - PART 1 - Orders",
   "widgets": {}
  },
  "language_info": {
   "name": "python"
  }
 },
 "nbformat": 4,
 "nbformat_minor": 0
}