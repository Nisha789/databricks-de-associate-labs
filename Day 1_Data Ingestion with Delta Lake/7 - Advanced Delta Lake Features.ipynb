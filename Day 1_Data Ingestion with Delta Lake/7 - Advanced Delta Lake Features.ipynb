{
 "cells": [
  {
   "cell_type": "markdown",
   "metadata": {
    "application/vnd.databricks.v1+cell": {
     "cellMetadata": {},
     "inputWidgets": {},
     "nuid": "95691a5a-baf7-49be-aea5-265e6c954168",
     "showTitle": false,
     "tableResultSettingsMap": {},
     "title": ""
    }
   },
   "source": [
    "\n",
    "<div style=\"text-align: center; line-height: 0; padding-top: 9px;\">\n",
    "  <img src=\"https://databricks.com/wp-content/uploads/2018/03/db-academy-rgb-1200px.png\" alt=\"Databricks Learning\">\n",
    "</div>\n"
   ]
  },
  {
   "cell_type": "markdown",
   "metadata": {
    "application/vnd.databricks.v1+cell": {
     "cellMetadata": {},
     "inputWidgets": {},
     "nuid": "8d94aa3e-e062-4e13-b0f0-48a769122d53",
     "showTitle": false,
     "tableResultSettingsMap": {},
     "title": ""
    }
   },
   "source": [
    "# Advanced Delta Lake Features\n",
    "\n",
    "Now that you feel comfortable performing basic data tasks with Delta Lake, we can discuss a few advanced features unique to Delta Lake. We are going to talk about Liquid Clustering, Optimization, and Versioning in Delta Lake.\n",
    "\n",
    "Note that while some of the keywords used here aren't part of standard ANSI SQL, all Delta Lake operations can be run on Databricks using SQL\n",
    "\n",
    "## Learning Objectives\n",
    "By the end of this lesson, you should be able to:\n",
    "* Use **`CLUSTER BY`** for liquid clustering\n",
    "* Use **`OPTIMIZE`** to manually trigger liquid clustering\n",
    "* Review a history of table transactions\n",
    "* Query and roll back to previous table version\n",
    "* Describe how to enable **`Predictive Optimization`**\n",
    "\n",
    "**Resources**\n",
    "* <a href=\"https://docs.databricks.com/spark/latest/spark-sql/language-manual/delta-optimize.html\" target=\"_blank\">Delta Optimize - Databricks Docs</a>\n",
    "* <a href=\"https://docs.databricks.com/spark/latest/spark-sql/language-manual/delta-vacuum.html\" target=\"_blank\">Delta Vacuum - Databricks Docs</a>"
   ]
  },
  {
   "cell_type": "markdown",
   "metadata": {
    "application/vnd.databricks.v1+cell": {
     "cellMetadata": {},
     "inputWidgets": {},
     "nuid": "adc08001-fced-44fd-9658-679ba77db350",
     "showTitle": false,
     "tableResultSettingsMap": {},
     "title": ""
    }
   },
   "source": [
    "## REQUIRED - SELECT CLASSIC COMPUTE\n",
    "\n",
    "Before executing cells in this notebook, please select your classic compute cluster in the lab. Be aware that **Serverless** is enabled by default.\n",
    "\n",
    "Follow these steps to select the classic compute cluster:\n",
    "\n",
    "1. Navigate to the top-right of this notebook and click the drop-down menu to select your cluster. By default, the notebook will use **Serverless**.\n",
    "\n",
    "1. If your cluster is available, select it and continue to the next cell. If the cluster is not shown:\n",
    "\n",
    "  - In the drop-down, select **More**.\n",
    "\n",
    "  - In the **Attach to an existing compute resource** pop-up, select the first drop-down. You will see a unique cluster name in that drop-down. Please select that cluster.\n",
    "\n",
    "**NOTE:** If your cluster has terminated, you might need to restart it in order to select it. To do this:\n",
    "\n",
    "1. Right-click on **Compute** in the left navigation pane and select *Open in new tab*.\n",
    "\n",
    "1. Find the triangle icon to the right of your compute cluster name and click it.\n",
    "\n",
    "1. Wait a few minutes for the cluster to start.\n",
    "\n",
    "1. Once the cluster is running, complete the steps above to select your cluster."
   ]
  },
  {
   "cell_type": "markdown",
   "metadata": {
    "application/vnd.databricks.v1+cell": {
     "cellMetadata": {},
     "inputWidgets": {},
     "nuid": "60b1d9e9-788c-4470-8681-a6860b3a1aea",
     "showTitle": false,
     "tableResultSettingsMap": {},
     "title": ""
    }
   },
   "source": [
    "## Classroom Setup\n",
    "\n",
    "Run the following cell to configure your working environment for this course. It will also set your default catalog to **dbacademy** and the schema to your specific schema name shown below using the `USE` statements.\n",
    "<br></br>\n",
    "\n",
    "\n",
    "```\n",
    "USE CATALOG dbacademy;\n",
    "USE SCHEMA dbacademy.<your unique schema name>;\n",
    "```\n",
    "\n",
    "**NOTE:** The `DA` object is only used in Databricks Academy courses and is not available outside of these courses. It will dynamically reference the information needed to run the course."
   ]
  },
  {
   "cell_type": "code",
   "execution_count": 0,
   "metadata": {
    "application/vnd.databricks.v1+cell": {
     "cellMetadata": {
      "byteLimit": 2048000,
      "rowLimit": 10000
     },
     "inputWidgets": {},
     "nuid": "2c3c21d8-f0c6-4ff6-95b3-dd9ba55cf82c",
     "showTitle": false,
     "tableResultSettingsMap": {},
     "title": ""
    }
   },
   "outputs": [
    {
     "output_type": "stream",
     "name": "stdout",
     "output_type": "stream",
     "text": [
      "\u001B[43mNote: you may need to restart the kernel using %restart_python or dbutils.library.restartPython() to use updated packages.\u001B[0m\n"
     ]
    },
    {
     "output_type": "display_data",
     "data": {
      "text/html": [
       "<table style=\"width:100%\">\n",
       "            <tr>\n",
       "                <td style=\"white-space:nowrap; width:1em\">Course Catalog:</td>\n",
       "                <td><input type=\"text\" value=\"dbacademy\" style=\"width: 100%\"></td></tr>\n",
       "            <tr>\n",
       "                <td style=\"white-space:nowrap; width:1em\">Your Schema:</td>\n",
       "                <td><input type=\"text\" value=\"labuser10342477_1747973406\" style=\"width: 100%\"></td></tr></table>"
      ]
     },
     "metadata": {},
     "output_type": "display_data"
    }
   ],
   "source": [
    "%run ./Includes/Classroom-Setup-7"
   ]
  },
  {
   "cell_type": "markdown",
   "metadata": {
    "application/vnd.databricks.v1+cell": {
     "cellMetadata": {},
     "inputWidgets": {},
     "nuid": "2c41fec3-24bf-4bd8-a1fc-e55e73bb124a",
     "showTitle": false,
     "tableResultSettingsMap": {},
     "title": ""
    }
   },
   "source": [
    "## Liquid Clustering\n",
    "Delta Lake liquid clustering replaces table partitioning and ZORDER to simplify data layout decisions and optimize query performance. Liquid clustering provides flexibility to redefine clustering keys without rewriting existing data, allowing data layout to evolve alongside analytic needs over time.\n",
    "\n",
    "Databricks recommends using liquid clustering for all new Delta tables.\n",
    "\n",
    "We enable liquid clustering on a table by using **`CLUSTER BY`**.\n",
    "\n",
    "Run **`DESCRIBE events`** and note the names of the columns."
   ]
  },
  {
   "cell_type": "code",
   "execution_count": 0,
   "metadata": {
    "application/vnd.databricks.v1+cell": {
     "cellMetadata": {
      "byteLimit": 2048000,
      "rowLimit": 10000
     },
     "inputWidgets": {},
     "nuid": "99e7546d-b633-4697-8795-ac5649f808a5",
     "showTitle": false,
     "tableResultSettingsMap": {},
     "title": ""
    }
   },
   "outputs": [
    {
     "output_type": "display_data",
     "data": {
      "text/html": [
       "<style scoped>\n",
       "  .table-result-container {\n",
       "    max-height: 300px;\n",
       "    overflow: auto;\n",
       "  }\n",
       "  table, th, td {\n",
       "    border: 1px solid black;\n",
       "    border-collapse: collapse;\n",
       "  }\n",
       "  th, td {\n",
       "    padding: 5px;\n",
       "  }\n",
       "  th {\n",
       "    text-align: left;\n",
       "  }\n",
       "</style><div class='table-result-container'><table class='table-result'><thead style='background-color: white'><tr><th>col_name</th><th>data_type</th><th>comment</th></tr></thead><tbody><tr><td>device</td><td>string</td><td>null</td></tr><tr><td>ecommerce</td><td>struct<purchase_revenue_in_usd:double,total_item_quantity:bigint,unique_items:bigint></td><td>null</td></tr><tr><td>event_name</td><td>string</td><td>null</td></tr><tr><td>event_previous_timestamp</td><td>bigint</td><td>null</td></tr><tr><td>event_timestamp</td><td>bigint</td><td>null</td></tr><tr><td>geo</td><td>struct<city:string,state:string></td><td>null</td></tr><tr><td>items</td><td>array<struct<coupon:string,item_id:string,item_name:string,item_revenue_in_usd:double,price_in_usd:double,quantity:bigint>></td><td>null</td></tr><tr><td>traffic_source</td><td>string</td><td>null</td></tr><tr><td>user_first_touch_timestamp</td><td>bigint</td><td>null</td></tr><tr><td>user_id</td><td>string</td><td>null</td></tr></tbody></table></div>"
      ]
     },
     "metadata": {
      "application/vnd.databricks.v1+output": {
       "addedWidgets": {},
       "aggData": [],
       "aggError": "",
       "aggOverflow": false,
       "aggSchema": [],
       "aggSeriesLimitReached": false,
       "aggType": "",
       "arguments": {},
       "columnCustomDisplayInfos": {},
       "data": [
        [
         "device",
         "string",
         null
        ],
        [
         "ecommerce",
         "struct<purchase_revenue_in_usd:double,total_item_quantity:bigint,unique_items:bigint>",
         null
        ],
        [
         "event_name",
         "string",
         null
        ],
        [
         "event_previous_timestamp",
         "bigint",
         null
        ],
        [
         "event_timestamp",
         "bigint",
         null
        ],
        [
         "geo",
         "struct<city:string,state:string>",
         null
        ],
        [
         "items",
         "array<struct<coupon:string,item_id:string,item_name:string,item_revenue_in_usd:double,price_in_usd:double,quantity:bigint>>",
         null
        ],
        [
         "traffic_source",
         "string",
         null
        ],
        [
         "user_first_touch_timestamp",
         "bigint",
         null
        ],
        [
         "user_id",
         "string",
         null
        ]
       ],
       "datasetInfos": [],
       "dbfsResultPath": null,
       "isJsonSchema": true,
       "metadata": {
        "isDbfsCommandResult": false
       },
       "overflow": false,
       "plotOptions": {
        "customPlotOptions": {},
        "displayType": "table",
        "pivotAggregation": null,
        "pivotColumns": null,
        "xColumns": null,
        "yColumns": null
       },
       "removedWidgets": [],
       "schema": [
        {
         "metadata": "{\"comment\":\"name of the column\"}",
         "name": "col_name",
         "type": "\"string\""
        },
        {
         "metadata": "{\"comment\":\"data type of the column\"}",
         "name": "data_type",
         "type": "\"string\""
        },
        {
         "metadata": "{\"comment\":\"comment of the column\"}",
         "name": "comment",
         "type": "\"string\""
        }
       ],
       "type": "table"
      }
     },
     "output_type": "display_data"
    }
   ],
   "source": [
    "DESCRIBE events;"
   ]
  },
  {
   "cell_type": "markdown",
   "metadata": {
    "application/vnd.databricks.v1+cell": {
     "cellMetadata": {},
     "inputWidgets": {},
     "nuid": "7f9f9f1b-4b9e-45a0-a792-54d52d5b6b50",
     "showTitle": false,
     "tableResultSettingsMap": {},
     "title": ""
    }
   },
   "source": [
    "There are [many reasons](https://docs.databricks.com/en/delta/clustering.html#what-is-liquid-clustering-used-for) to use liquid clustering on a table. We know the **`events`** table will be growing quickly and will require maintenance and tuning, so we are going to enable liquid clustering for this table. Now, we could have enable liquid clustering at the time the table was created by adding **`CLUSTER BY`** to the **`CREATE TABLE`** statement, like this:"
   ]
  },
  {
   "cell_type": "code",
   "execution_count": 0,
   "metadata": {
    "application/vnd.databricks.v1+cell": {
     "cellMetadata": {
      "byteLimit": 2048000,
      "rowLimit": 10000
     },
     "inputWidgets": {},
     "nuid": "f8d5a9f9-54e1-4dbc-aa44-fad3cd2e5ac3",
     "showTitle": false,
     "tableResultSettingsMap": {},
     "title": ""
    }
   },
   "outputs": [
    {
     "output_type": "display_data",
     "data": {
      "text/html": [
       "<style scoped>\n",
       "  .table-result-container {\n",
       "    max-height: 300px;\n",
       "    overflow: auto;\n",
       "  }\n",
       "  table, th, td {\n",
       "    border: 1px solid black;\n",
       "    border-collapse: collapse;\n",
       "  }\n",
       "  th, td {\n",
       "    padding: 5px;\n",
       "  }\n",
       "  th {\n",
       "    text-align: left;\n",
       "  }\n",
       "</style><div class='table-result-container'><table class='table-result'><thead style='background-color: white'><tr><th>num_affected_rows</th><th>num_inserted_rows</th></tr></thead><tbody></tbody></table></div>"
      ]
     },
     "metadata": {
      "application/vnd.databricks.v1+output": {
       "addedWidgets": {},
       "aggData": [],
       "aggError": "",
       "aggOverflow": false,
       "aggSchema": [],
       "aggSeriesLimitReached": false,
       "aggType": "",
       "arguments": {},
       "columnCustomDisplayInfos": {},
       "data": [],
       "datasetInfos": [],
       "dbfsResultPath": null,
       "isJsonSchema": true,
       "metadata": {
        "isDbfsCommandResult": false
       },
       "overflow": false,
       "plotOptions": {
        "customPlotOptions": {},
        "displayType": "table",
        "pivotAggregation": null,
        "pivotColumns": null,
        "xColumns": null,
        "yColumns": null
       },
       "removedWidgets": [],
       "schema": [
        {
         "metadata": "{}",
         "name": "num_affected_rows",
         "type": "\"long\""
        },
        {
         "metadata": "{}",
         "name": "num_inserted_rows",
         "type": "\"long\""
        }
       ],
       "type": "table"
      }
     },
     "output_type": "display_data"
    }
   ],
   "source": [
    "CREATE OR REPLACE TABLE events_liquid \n",
    "CLUSTER BY (user_id) AS \n",
    "SELECT * \n",
    "FROM events;"
   ]
  },
  {
   "cell_type": "markdown",
   "metadata": {
    "application/vnd.databricks.v1+cell": {
     "cellMetadata": {},
     "inputWidgets": {},
     "nuid": "db414a86-548a-481e-90bf-ff6994c303c6",
     "showTitle": false,
     "tableResultSettingsMap": {},
     "title": ""
    }
   },
   "source": [
    "However, we can also add liquid clustering to an existing table using **`ALTER TABLE`**."
   ]
  },
  {
   "cell_type": "code",
   "execution_count": 0,
   "metadata": {
    "application/vnd.databricks.v1+cell": {
     "cellMetadata": {
      "byteLimit": 2048000,
      "rowLimit": 10000
     },
     "inputWidgets": {},
     "nuid": "a811729b-a87f-4869-b390-7155f8748e88",
     "showTitle": false,
     "tableResultSettingsMap": {},
     "title": ""
    }
   },
   "outputs": [
    {
     "output_type": "display_data",
     "data": {
      "text/html": [
       "<style scoped>\n",
       "  .table-result-container {\n",
       "    max-height: 300px;\n",
       "    overflow: auto;\n",
       "  }\n",
       "  table, th, td {\n",
       "    border: 1px solid black;\n",
       "    border-collapse: collapse;\n",
       "  }\n",
       "  th, td {\n",
       "    padding: 5px;\n",
       "  }\n",
       "  th {\n",
       "    text-align: left;\n",
       "  }\n",
       "</style><div class='table-result-container'><table class='table-result'><thead style='background-color: white'><tr></tr></thead><tbody></tbody></table></div>"
      ]
     },
     "metadata": {
      "application/vnd.databricks.v1+output": {
       "addedWidgets": {},
       "aggData": [],
       "aggError": "",
       "aggOverflow": false,
       "aggSchema": [],
       "aggSeriesLimitReached": false,
       "aggType": "",
       "arguments": {},
       "columnCustomDisplayInfos": {},
       "data": [],
       "datasetInfos": [],
       "dbfsResultPath": null,
       "isJsonSchema": true,
       "metadata": {
        "isDbfsCommandResult": false
       },
       "overflow": false,
       "plotOptions": {
        "customPlotOptions": {},
        "displayType": "table",
        "pivotAggregation": null,
        "pivotColumns": null,
        "xColumns": null,
        "yColumns": null
       },
       "removedWidgets": [],
       "schema": [],
       "type": "table"
      }
     },
     "output_type": "display_data"
    }
   ],
   "source": [
    "ALTER TABLE events\n",
    "CLUSTER BY (user_id);"
   ]
  },
  {
   "cell_type": "markdown",
   "metadata": {
    "application/vnd.databricks.v1+cell": {
     "cellMetadata": {},
     "inputWidgets": {},
     "nuid": "d988d0b0-1b2b-4f63-baa5-1bbe2fd2baa6",
     "showTitle": false,
     "tableResultSettingsMap": {},
     "title": ""
    }
   },
   "source": [
    "When we run **`DESCRIBE events`**, we see the column(s) on which we are currently clustering under **`Clustering Information`**."
   ]
  },
  {
   "cell_type": "code",
   "execution_count": 0,
   "metadata": {
    "application/vnd.databricks.v1+cell": {
     "cellMetadata": {
      "byteLimit": 2048000,
      "rowLimit": 10000
     },
     "inputWidgets": {},
     "nuid": "29ac1eef-223f-4625-8c3e-55788781f725",
     "showTitle": false,
     "tableResultSettingsMap": {},
     "title": ""
    }
   },
   "outputs": [
    {
     "output_type": "display_data",
     "data": {
      "text/html": [
       "<style scoped>\n",
       "  .table-result-container {\n",
       "    max-height: 300px;\n",
       "    overflow: auto;\n",
       "  }\n",
       "  table, th, td {\n",
       "    border: 1px solid black;\n",
       "    border-collapse: collapse;\n",
       "  }\n",
       "  th, td {\n",
       "    padding: 5px;\n",
       "  }\n",
       "  th {\n",
       "    text-align: left;\n",
       "  }\n",
       "</style><div class='table-result-container'><table class='table-result'><thead style='background-color: white'><tr><th>col_name</th><th>data_type</th><th>comment</th></tr></thead><tbody><tr><td>device</td><td>string</td><td>null</td></tr><tr><td>ecommerce</td><td>struct<purchase_revenue_in_usd:double,total_item_quantity:bigint,unique_items:bigint></td><td>null</td></tr><tr><td>event_name</td><td>string</td><td>null</td></tr><tr><td>event_previous_timestamp</td><td>bigint</td><td>null</td></tr><tr><td>event_timestamp</td><td>bigint</td><td>null</td></tr><tr><td>geo</td><td>struct<city:string,state:string></td><td>null</td></tr><tr><td>items</td><td>array<struct<coupon:string,item_id:string,item_name:string,item_revenue_in_usd:double,price_in_usd:double,quantity:bigint>></td><td>null</td></tr><tr><td>traffic_source</td><td>string</td><td>null</td></tr><tr><td>user_first_touch_timestamp</td><td>bigint</td><td>null</td></tr><tr><td>user_id</td><td>string</td><td>null</td></tr><tr><td># Clustering Information</td><td></td><td></td></tr><tr><td># col_name</td><td>data_type</td><td>comment</td></tr><tr><td>user_id</td><td>string</td><td>null</td></tr></tbody></table></div>"
      ]
     },
     "metadata": {
      "application/vnd.databricks.v1+output": {
       "addedWidgets": {},
       "aggData": [],
       "aggError": "",
       "aggOverflow": false,
       "aggSchema": [],
       "aggSeriesLimitReached": false,
       "aggType": "",
       "arguments": {},
       "columnCustomDisplayInfos": {},
       "data": [
        [
         "device",
         "string",
         null
        ],
        [
         "ecommerce",
         "struct<purchase_revenue_in_usd:double,total_item_quantity:bigint,unique_items:bigint>",
         null
        ],
        [
         "event_name",
         "string",
         null
        ],
        [
         "event_previous_timestamp",
         "bigint",
         null
        ],
        [
         "event_timestamp",
         "bigint",
         null
        ],
        [
         "geo",
         "struct<city:string,state:string>",
         null
        ],
        [
         "items",
         "array<struct<coupon:string,item_id:string,item_name:string,item_revenue_in_usd:double,price_in_usd:double,quantity:bigint>>",
         null
        ],
        [
         "traffic_source",
         "string",
         null
        ],
        [
         "user_first_touch_timestamp",
         "bigint",
         null
        ],
        [
         "user_id",
         "string",
         null
        ],
        [
         "# Clustering Information",
         "",
         ""
        ],
        [
         "# col_name",
         "data_type",
         "comment"
        ],
        [
         "user_id",
         "string",
         null
        ]
       ],
       "datasetInfos": [],
       "dbfsResultPath": null,
       "isJsonSchema": true,
       "metadata": {
        "isDbfsCommandResult": false
       },
       "overflow": false,
       "plotOptions": {
        "customPlotOptions": {},
        "displayType": "table",
        "pivotAggregation": null,
        "pivotColumns": null,
        "xColumns": null,
        "yColumns": null
       },
       "removedWidgets": [],
       "schema": [
        {
         "metadata": "{\"comment\":\"name of the column\"}",
         "name": "col_name",
         "type": "\"string\""
        },
        {
         "metadata": "{\"comment\":\"data type of the column\"}",
         "name": "data_type",
         "type": "\"string\""
        },
        {
         "metadata": "{\"comment\":\"comment of the column\"}",
         "name": "comment",
         "type": "\"string\""
        }
       ],
       "type": "table"
      }
     },
     "output_type": "display_data"
    }
   ],
   "source": [
    "DESCRIBE events;"
   ]
  },
  {
   "cell_type": "markdown",
   "metadata": {
    "application/vnd.databricks.v1+cell": {
     "cellMetadata": {},
     "inputWidgets": {},
     "nuid": "5fb9334e-3cd0-4773-a141-c70a108b1ff0",
     "showTitle": false,
     "tableResultSettingsMap": {},
     "title": ""
    }
   },
   "source": [
    "## Choosing Clustering Keys\n",
    "Databricks recommends choosing clustering keys based on commonly used query filters. Clustering keys can be defined in any order. \n",
    "\n",
    "In the **`CLUSTER BY`** above, we chose **`user_id`** as the clustering key, but we may also want to add **`device`**. Note that we can change clustering keys, as needed, by altering the table in the future.\n",
    "\n",
    "With liquid clustering, we no longer have to worry about how we have data partitioned or deal with the complexities of using zorder. We get the benefits of both without the struggle."
   ]
  },
  {
   "cell_type": "markdown",
   "metadata": {
    "application/vnd.databricks.v1+cell": {
     "cellMetadata": {},
     "inputWidgets": {},
     "nuid": "5df6c2e2-bbd1-4949-9f70-89edd74c1f29",
     "showTitle": false,
     "tableResultSettingsMap": {},
     "title": ""
    }
   },
   "source": [
    "## Triggering Liquid Clustering\n",
    "Liquid clustering is incremental, meaning that data is only rewritten as necessary to accommodate data that needs to be clustered. Data files with clustering keys that do not match data to be clustered are not rewritten.\n",
    "\n",
    "For best performance, **Databricks recommends scheduling regular** **`OPTIMIZE`** **jobs to cluster data. For tables experiencing many updates or inserts, Databricks recommends scheduling an **`OPTIMIZE`** job every one or two hours. Because liquid clustering is incremental, most **`OPTIMIZE`** jobs for clustered tables run quickly.**"
   ]
  },
  {
   "cell_type": "code",
   "execution_count": 0,
   "metadata": {
    "application/vnd.databricks.v1+cell": {
     "cellMetadata": {
      "byteLimit": 2048000,
      "rowLimit": 10000
     },
     "inputWidgets": {},
     "nuid": "b574521b-0cf0-441c-91b0-20a5b49cfd3d",
     "showTitle": false,
     "tableResultSettingsMap": {},
     "title": ""
    }
   },
   "outputs": [
    {
     "output_type": "display_data",
     "data": {
      "text/html": [
       "<style scoped>\n",
       "  .table-result-container {\n",
       "    max-height: 300px;\n",
       "    overflow: auto;\n",
       "  }\n",
       "  table, th, td {\n",
       "    border: 1px solid black;\n",
       "    border-collapse: collapse;\n",
       "  }\n",
       "  th, td {\n",
       "    padding: 5px;\n",
       "  }\n",
       "  th {\n",
       "    text-align: left;\n",
       "  }\n",
       "</style><div class='table-result-container'><table class='table-result'><thead style='background-color: white'><tr><th>path</th><th>metrics</th></tr></thead><tbody><tr><td>s3://unity-catalogs-us-west-2/metastore/3665583-root/8590962d-5b67-4403-8302-d03ddc277141/tables/c811de46-d215-4fe1-8131-00df8034968b</td><td>List(0, 0, List(null, null, 0.0, 0, 0), List(null, null, 0.0, 0, 0), 0, null, null, 0, 0, 1, 0, false, 0, 0, 1747981643892, 1747981650906, 4, 0, null, List(0, 0), 10, 10, 0, 0, List(14998213, true, false, 0, 0, 0, 0, 1, 14998213, 14998213, null, log, 16777216, 67108864, 4, 0, 0, 0, 0, 0, 0, 0, 0, 0, 0, 0, 0, 0, 0, 0, 0, 0, 0, List(253, 154, 0, 0, 0, 1163), 2, 1, 5, sizeAware))</td></tr></tbody></table></div>"
      ]
     },
     "metadata": {
      "application/vnd.databricks.v1+output": {
       "addedWidgets": {},
       "aggData": [],
       "aggError": "",
       "aggOverflow": false,
       "aggSchema": [],
       "aggSeriesLimitReached": false,
       "aggType": "",
       "arguments": {},
       "columnCustomDisplayInfos": {},
       "data": [
        [
         "s3://unity-catalogs-us-west-2/metastore/3665583-root/8590962d-5b67-4403-8302-d03ddc277141/tables/c811de46-d215-4fe1-8131-00df8034968b",
         [
          0,
          0,
          [
           null,
           null,
           0.0,
           0,
           0
          ],
          [
           null,
           null,
           0.0,
           0,
           0
          ],
          0,
          null,
          null,
          0,
          0,
          1,
          0,
          false,
          0,
          0,
          1747981643892,
          1747981650906,
          4,
          0,
          null,
          [
           0,
           0
          ],
          10,
          10,
          0,
          0,
          [
           14998213,
           true,
           false,
           0,
           0,
           0,
           0,
           1,
           14998213,
           14998213,
           null,
           "log",
           16777216,
           67108864,
           4,
           0,
           0,
           0,
           0,
           0,
           0,
           0,
           0,
           0,
           0,
           0,
           0,
           0,
           0,
           0,
           0,
           0,
           0,
           [
            253,
            154,
            0,
            0,
            0,
            1163
           ],
           2,
           1,
           5,
           "sizeAware"
          ]
         ]
        ]
       ],
       "datasetInfos": [],
       "dbfsResultPath": null,
       "isJsonSchema": true,
       "metadata": {},
       "overflow": false,
       "plotOptions": {
        "customPlotOptions": {},
        "displayType": "table",
        "pivotAggregation": null,
        "pivotColumns": null,
        "xColumns": null,
        "yColumns": null
       },
       "removedWidgets": [],
       "schema": [
        {
         "metadata": "{}",
         "name": "path",
         "type": "\"string\""
        },
        {
         "metadata": "{}",
         "name": "metrics",
         "type": "{\"type\":\"struct\",\"fields\":[{\"name\":\"numFilesAdded\",\"type\":\"long\",\"nullable\":false,\"metadata\":{}},{\"name\":\"numFilesRemoved\",\"type\":\"long\",\"nullable\":false,\"metadata\":{}},{\"name\":\"filesAdded\",\"type\":{\"type\":\"struct\",\"fields\":[{\"name\":\"min\",\"type\":\"long\",\"nullable\":true,\"metadata\":{}},{\"name\":\"max\",\"type\":\"long\",\"nullable\":true,\"metadata\":{}},{\"name\":\"avg\",\"type\":\"double\",\"nullable\":false,\"metadata\":{}},{\"name\":\"totalFiles\",\"type\":\"long\",\"nullable\":false,\"metadata\":{}},{\"name\":\"totalSize\",\"type\":\"long\",\"nullable\":false,\"metadata\":{}}]},\"nullable\":true,\"metadata\":{}},{\"name\":\"filesRemoved\",\"type\":{\"type\":\"struct\",\"fields\":[{\"name\":\"min\",\"type\":\"long\",\"nullable\":true,\"metadata\":{}},{\"name\":\"max\",\"type\":\"long\",\"nullable\":true,\"metadata\":{}},{\"name\":\"avg\",\"type\":\"double\",\"nullable\":false,\"metadata\":{}},{\"name\":\"totalFiles\",\"type\":\"long\",\"nullable\":false,\"metadata\":{}},{\"name\":\"totalSize\",\"type\":\"long\",\"nullable\":false,\"metadata\":{}}]},\"nullable\":true,\"metadata\":{}},{\"name\":\"partitionsOptimized\",\"type\":\"long\",\"nullable\":false,\"metadata\":{}},{\"name\":\"zOrderStats\",\"type\":{\"type\":\"struct\",\"fields\":[{\"name\":\"strategyName\",\"type\":\"string\",\"nullable\":true,\"metadata\":{}},{\"name\":\"inputCubeFiles\",\"type\":{\"type\":\"struct\",\"fields\":[{\"name\":\"num\",\"type\":\"long\",\"nullable\":false,\"metadata\":{}},{\"name\":\"size\",\"type\":\"long\",\"nullable\":false,\"metadata\":{}}]},\"nullable\":true,\"metadata\":{}},{\"name\":\"inputOtherFiles\",\"type\":{\"type\":\"struct\",\"fields\":[{\"name\":\"num\",\"type\":\"long\",\"nullable\":false,\"metadata\":{}},{\"name\":\"size\",\"type\":\"long\",\"nullable\":false,\"metadata\":{}}]},\"nullable\":true,\"metadata\":{}},{\"name\":\"inputNumCubes\",\"type\":\"long\",\"nullable\":false,\"metadata\":{}},{\"name\":\"mergedFiles\",\"type\":{\"type\":\"struct\",\"fields\":[{\"name\":\"num\",\"type\":\"long\",\"nullable\":false,\"metadata\":{}},{\"name\":\"size\",\"type\":\"long\",\"nullable\":false,\"metadata\":{}}]},\"nullable\":true,\"metadata\":{}},{\"name\":\"numOutputCubes\",\"type\":\"long\",\"nullable\":false,\"metadata\":{}},{\"name\":\"mergedNumCubes\",\"type\":\"long\",\"nullable\":true,\"metadata\":{}}]},\"nullable\":true,\"metadata\":{}},{\"name\":\"clusteringStats\",\"type\":{\"type\":\"struct\",\"fields\":[{\"name\":\"inputZCubeFiles\",\"type\":{\"type\":\"struct\",\"fields\":[{\"name\":\"numFiles\",\"type\":\"long\",\"nullable\":false,\"metadata\":{}},{\"name\":\"size\",\"type\":\"long\",\"nullable\":false,\"metadata\":{}}]},\"nullable\":true,\"metadata\":{}},{\"name\":\"inputOtherFiles\",\"type\":{\"type\":\"struct\",\"fields\":[{\"name\":\"numFiles\",\"type\":\"long\",\"nullable\":false,\"metadata\":{}},{\"name\":\"size\",\"type\":\"long\",\"nullable\":false,\"metadata\":{}}]},\"nullable\":true,\"metadata\":{}},{\"name\":\"inputNumZCubes\",\"type\":\"long\",\"nullable\":false,\"metadata\":{}},{\"name\":\"mergedFiles\",\"type\":{\"type\":\"struct\",\"fields\":[{\"name\":\"numFiles\",\"type\":\"long\",\"nullable\":false,\"metadata\":{}},{\"name\":\"size\",\"type\":\"long\",\"nullable\":false,\"metadata\":{}}]},\"nullable\":true,\"metadata\":{}},{\"name\":\"numOutputZCubes\",\"type\":\"long\",\"nullable\":false,\"metadata\":{}}]},\"nullable\":true,\"metadata\":{}},{\"name\":\"numBins\",\"type\":\"long\",\"nullable\":false,\"metadata\":{}},{\"name\":\"numBatches\",\"type\":\"long\",\"nullable\":false,\"metadata\":{}},{\"name\":\"totalConsideredFiles\",\"type\":\"long\",\"nullable\":false,\"metadata\":{}},{\"name\":\"totalFilesSkipped\",\"type\":\"long\",\"nullable\":false,\"metadata\":{}},{\"name\":\"preserveInsertionOrder\",\"type\":\"boolean\",\"nullable\":false,\"metadata\":{}},{\"name\":\"numFilesSkippedToReduceWriteAmplification\",\"type\":\"long\",\"nullable\":false,\"metadata\":{}},{\"name\":\"numBytesSkippedToReduceWriteAmplification\",\"type\":\"long\",\"nullable\":false,\"metadata\":{}},{\"name\":\"startTimeMs\",\"type\":\"long\",\"nullable\":false,\"metadata\":{}},{\"name\":\"endTimeMs\",\"type\":\"long\",\"nullable\":false,\"metadata\":{}},{\"name\":\"totalClusterParallelism\",\"type\":\"long\",\"nullable\":false,\"metadata\":{}},{\"name\":\"totalScheduledTasks\",\"type\":\"long\",\"nullable\":false,\"metadata\":{}},{\"name\":\"autoCompactParallelismStats\",\"type\":{\"type\":\"struct\",\"fields\":[{\"name\":\"maxClusterActiveParallelism\",\"type\":\"long\",\"nullable\":true,\"metadata\":{}},{\"name\":\"minClusterActiveParallelism\",\"type\":\"long\",\"nullable\":true,\"metadata\":{}},{\"name\":\"maxSessionActiveParallelism\",\"type\":\"long\",\"nullable\":true,\"metadata\":{}},{\"name\":\"minSessionActiveParallelism\",\"type\":\"long\",\"nullable\":true,\"metadata\":{}}]},\"nullable\":true,\"metadata\":{}},{\"name\":\"deletionVectorStats\",\"type\":{\"type\":\"struct\",\"fields\":[{\"name\":\"numDeletionVectorsRemoved\",\"type\":\"long\",\"nullable\":false,\"metadata\":{}},{\"name\":\"numDeletionVectorRowsRemoved\",\"type\":\"long\",\"nullable\":false,\"metadata\":{}}]},\"nullable\":true,\"metadata\":{}},{\"name\":\"numTableColumns\",\"type\":\"long\",\"nullable\":false,\"metadata\":{}},{\"name\":\"numTableColumnsWithStats\",\"type\":\"long\",\"nullable\":false,\"metadata\":{}},{\"name\":\"totalTaskExecutionTimeMs\",\"type\":\"long\",\"nullable\":false,\"metadata\":{}},{\"name\":\"skippedArchivedFiles\",\"type\":\"long\",\"nullable\":false,\"metadata\":{}},{\"name\":\"clusteringMetrics\",\"type\":{\"type\":\"struct\",\"fields\":[{\"name\":\"sizeOfTableInBytesBeforeLazyClustering\",\"type\":\"long\",\"nullable\":false,\"metadata\":{}},{\"name\":\"isNewMetadataCreated\",\"type\":\"boolean\",\"nullable\":false,\"metadata\":{}},{\"name\":\"isPOTriggered\",\"type\":\"boolean\",\"nullable\":false,\"metadata\":{}},{\"name\":\"numFilesSkippedWithoutStats\",\"type\":\"long\",\"nullable\":false,\"metadata\":{}},{\"name\":\"numFilesClassifiedToIntermediateNodes\",\"type\":\"long\",\"nullable\":false,\"metadata\":{}},{\"name\":\"sizeOfFilesClassifiedToIntermediateNodesInBytes\",\"type\":\"long\",\"nullable\":false,\"metadata\":{}},{\"name\":\"logicalSizeOfFilesClassifiedToIntermediateNodesInBytes\",\"type\":\"long\",\"nullable\":false,\"metadata\":{}},{\"name\":\"numFilesClassifiedToLeafNodes\",\"type\":\"long\",\"nullable\":false,\"metadata\":{}},{\"name\":\"sizeOfFilesClassifiedToLeafNodesInBytes\",\"type\":\"long\",\"nullable\":false,\"metadata\":{}},{\"name\":\"logicalSizeOfFilesClassifiedToLeafNodesInBytes\",\"type\":\"long\",\"nullable\":false,\"metadata\":{}},{\"name\":\"numThreadsForClassifier\",\"type\":\"integer\",\"nullable\":true,\"metadata\":{}},{\"name\":\"clusterThresholdStrategy\",\"type\":\"string\",\"nullable\":true,\"metadata\":{}},{\"name\":\"minFileSize\",\"type\":\"long\",\"nullable\":false,\"metadata\":{}},{\"name\":\"maxFileSize\",\"type\":\"long\",\"nullable\":false,\"metadata\":{}},{\"name\":\"nodeMinNumFilesToCompact\",\"type\":\"long\",\"nullable\":false,\"metadata\":{}},{\"name\":\"numIdealFiles\",\"type\":\"long\",\"nullable\":false,\"metadata\":{}},{\"name\":\"numClusteringTasksPlanned\",\"type\":\"integer\",\"nullable\":false,\"metadata\":{}},{\"name\":\"numCompactionTasksPlanned\",\"type\":\"integer\",\"nullable\":false,\"metadata\":{}},{\"name\":\"numOptimizeBatchesPlanned\",\"type\":\"integer\",\"nullable\":false,\"metadata\":{}},{\"name\":\"numLeafNodesExpanded\",\"type\":\"long\",\"nullable\":false,\"metadata\":{}},{\"name\":\"numLeafNodesClustered\",\"type\":\"long\",\"nullable\":false,\"metadata\":{}},{\"name\":\"numGetFilesForNodeCalls\",\"type\":\"long\",\"nullable\":false,\"metadata\":{}},{\"name\":\"numSamplingJobs\",\"type\":\"long\",\"nullable\":false,\"metadata\":{}},{\"name\":\"numLeafNodesCompacted\",\"type\":\"long\",\"nullable\":false,\"metadata\":{}},{\"name\":\"numIntermediateNodesCompacted\",\"type\":\"long\",\"nullable\":false,\"metadata\":{}},{\"name\":\"totalSizeOfDataToCompactInBytes\",\"type\":\"long\",\"nullable\":false,\"metadata\":{}},{\"name\":\"totalLogicalSizeOfDataToCompactInBytes\",\"type\":\"long\",\"nullable\":false,\"metadata\":{}},{\"name\":\"numIntermediateNodesClustered\",\"type\":\"long\",\"nullable\":false,\"metadata\":{}},{\"name\":\"numFilesSkippedAfterExpansion\",\"type\":\"long\",\"nullable\":false,\"metadata\":{}},{\"name\":\"totalSizeOfFilesSkippedAfterExpansionInBytes\",\"type\":\"long\",\"nullable\":false,\"metadata\":{}},{\"name\":\"totalLogicalSizeOfFilesSkippedAfterExpansionInBytes\",\"type\":\"long\",\"nullable\":false,\"metadata\":{}},{\"name\":\"totalSizeOfDataToRewriteInBytes\",\"type\":\"long\",\"nullable\":false,\"metadata\":{}},{\"name\":\"totalLogicalSizeOfDataToRewriteInBytes\",\"type\":\"long\",\"nullable\":false,\"metadata\":{}},{\"name\":\"timeMetrics\",\"type\":{\"type\":\"struct\",\"fields\":[{\"name\":\"classifierTimeMs\",\"type\":\"long\",\"nullable\":false,\"metadata\":{}},{\"name\":\"optimizerTimeMs\",\"type\":\"long\",\"nullable\":false,\"metadata\":{}},{\"name\":\"metadataLoadTimeMs\",\"type\":\"long\",\"nullable\":false,\"metadata\":{}},{\"name\":\"totalGetFilesForNodeCallsTimeMs\",\"type\":\"long\",\"nullable\":false,\"metadata\":{}},{\"name\":\"totalSamplingTimeMs\",\"type\":\"long\",\"nullable\":false,\"metadata\":{}},{\"name\":\"metadataCreationTimeMs\",\"type\":\"long\",\"nullable\":false,\"metadata\":{}}]},\"nullable\":true,\"metadata\":{}},{\"name\":\"maxOptimizeBatchesInParallel\",\"type\":\"long\",\"nullable\":false,\"metadata\":{}},{\"name\":\"currentIteration\",\"type\":\"integer\",\"nullable\":false,\"metadata\":{}},{\"name\":\"maxIterations\",\"type\":\"integer\",\"nullable\":false,\"metadata\":{}},{\"name\":\"clusteringStrategy\",\"type\":\"string\",\"nullable\":true,\"metadata\":{}}]},\"nullable\":true,\"metadata\":{}}]}"
        }
       ],
       "type": "table"
      }
     },
     "output_type": "display_data"
    }
   ],
   "source": [
    "OPTIMIZE events;"
   ]
  },
  {
   "cell_type": "markdown",
   "metadata": {
    "application/vnd.databricks.v1+cell": {
     "cellMetadata": {},
     "inputWidgets": {},
     "nuid": "aaf0b567-43a3-481d-9d86-656fb59366df",
     "showTitle": false,
     "tableResultSettingsMap": {},
     "title": ""
    }
   },
   "source": [
    "## Creating a Delta Table with History\n",
    "\n",
    "In the next cell, we create a table and run a handful of commands that make updates to the table. As you're waiting for this query to run, see if you can identify the total number of transactions being executed."
   ]
  },
  {
   "cell_type": "code",
   "execution_count": 0,
   "metadata": {
    "application/vnd.databricks.v1+cell": {
     "cellMetadata": {
      "byteLimit": 2048000,
      "rowLimit": 10000
     },
     "inputWidgets": {},
     "nuid": "b43ad66a-b2cc-4f74-8b80-70d3a31d7676",
     "showTitle": false,
     "tableResultSettingsMap": {},
     "title": ""
    }
   },
   "outputs": [
    {
     "output_type": "display_data",
     "data": {
      "text/html": [
       "<style scoped>\n",
       "  .table-result-container {\n",
       "    max-height: 300px;\n",
       "    overflow: auto;\n",
       "  }\n",
       "  table, th, td {\n",
       "    border: 1px solid black;\n",
       "    border-collapse: collapse;\n",
       "  }\n",
       "  th, td {\n",
       "    padding: 5px;\n",
       "  }\n",
       "  th {\n",
       "    text-align: left;\n",
       "  }\n",
       "</style><div class='table-result-container'><table class='table-result'><thead style='background-color: white'><tr><th>num_affected_rows</th><th>num_updated_rows</th><th>num_deleted_rows</th><th>num_inserted_rows</th></tr></thead><tbody><tr><td>3</td><td>1</td><td>1</td><td>1</td></tr></tbody></table></div>"
      ]
     },
     "metadata": {
      "application/vnd.databricks.v1+output": {
       "addedWidgets": {},
       "aggData": [],
       "aggError": "",
       "aggOverflow": false,
       "aggSchema": [],
       "aggSeriesLimitReached": false,
       "aggType": "",
       "arguments": {},
       "columnCustomDisplayInfos": {},
       "data": [
        [
         3,
         1,
         1,
         1
        ]
       ],
       "datasetInfos": [],
       "dbfsResultPath": null,
       "isJsonSchema": true,
       "metadata": {
        "isDbfsCommandResult": false
       },
       "overflow": false,
       "plotOptions": {
        "customPlotOptions": {},
        "displayType": "table",
        "pivotAggregation": null,
        "pivotColumns": null,
        "xColumns": null,
        "yColumns": null
       },
       "removedWidgets": [],
       "schema": [
        {
         "metadata": "{}",
         "name": "num_affected_rows",
         "type": "\"long\""
        },
        {
         "metadata": "{}",
         "name": "num_updated_rows",
         "type": "\"long\""
        },
        {
         "metadata": "{}",
         "name": "num_deleted_rows",
         "type": "\"long\""
        },
        {
         "metadata": "{}",
         "name": "num_inserted_rows",
         "type": "\"long\""
        }
       ],
       "type": "table"
      }
     },
     "output_type": "display_data"
    }
   ],
   "source": [
    "CREATE TABLE students \n",
    "  (id INT, name STRING, value DOUBLE);\n",
    "  \n",
    "INSERT INTO students VALUES (1, \"Yve\", 1.0);\n",
    "INSERT INTO students VALUES (2, \"Omar\", 2.5);\n",
    "INSERT INTO students VALUES (3, \"Elia\", 3.3);\n",
    "\n",
    "INSERT INTO students\n",
    "VALUES \n",
    "  (4, \"Ted\", 4.7),\n",
    "  (5, \"Tiffany\", 5.5),\n",
    "  (6, \"Vini\", 6.3);\n",
    "  \n",
    "UPDATE students \n",
    "SET value = value + 1\n",
    "WHERE name LIKE \"T%\";\n",
    "\n",
    "DELETE FROM students \n",
    "WHERE value > 6;\n",
    "\n",
    "CREATE OR REPLACE TEMP VIEW updates(id, name, value, type) AS VALUES\n",
    "  (2, \"Omar\", 15.2, \"update\"),\n",
    "  (3, \"\", null, \"delete\"),\n",
    "  (7, \"Blue\", 7.7, \"insert\"),\n",
    "  (11, \"Diya\", 8.8, \"update\");\n",
    "  \n",
    "MERGE INTO students b\n",
    "USING updates u\n",
    "ON b.id=u.id\n",
    "WHEN MATCHED AND u.type = \"update\"\n",
    "  THEN UPDATE SET *\n",
    "WHEN MATCHED AND u.type = \"delete\"\n",
    "  THEN DELETE\n",
    "WHEN NOT MATCHED AND u.type = \"insert\"\n",
    "  THEN INSERT *;"
   ]
  },
  {
   "cell_type": "markdown",
   "metadata": {
    "application/vnd.databricks.v1+cell": {
     "cellMetadata": {},
     "inputWidgets": {},
     "nuid": "23119425-b528-49b4-831b-22492d5144d9",
     "showTitle": false,
     "tableResultSettingsMap": {},
     "title": ""
    }
   },
   "source": [
    "## The Delta Log\n",
    "Each change to a table results in a new entry being written to the Delta Lake transaction log. \n",
    "\n",
    "The command, `DESCRIBE HISTORY` allows us to see this log"
   ]
  },
  {
   "cell_type": "code",
   "execution_count": 0,
   "metadata": {
    "application/vnd.databricks.v1+cell": {
     "cellMetadata": {
      "byteLimit": 2048000,
      "rowLimit": 10000
     },
     "inputWidgets": {},
     "nuid": "406d9a1b-d2a1-437e-8eee-82835f54fcfe",
     "showTitle": false,
     "tableResultSettingsMap": {},
     "title": ""
    }
   },
   "outputs": [
    {
     "output_type": "display_data",
     "data": {
      "text/html": [
       "<style scoped>\n",
       "  .table-result-container {\n",
       "    max-height: 300px;\n",
       "    overflow: auto;\n",
       "  }\n",
       "  table, th, td {\n",
       "    border: 1px solid black;\n",
       "    border-collapse: collapse;\n",
       "  }\n",
       "  th, td {\n",
       "    padding: 5px;\n",
       "  }\n",
       "  th {\n",
       "    text-align: left;\n",
       "  }\n",
       "</style><div class='table-result-container'><table class='table-result'><thead style='background-color: white'><tr><th>version</th><th>timestamp</th><th>userId</th><th>userName</th><th>operation</th><th>operationParameters</th><th>job</th><th>notebook</th><th>clusterId</th><th>readVersion</th><th>isolationLevel</th><th>isBlindAppend</th><th>operationMetrics</th><th>userMetadata</th><th>engineInfo</th></tr></thead><tbody><tr><td>9</td><td>2025-05-23T06:29:41Z</td><td>7363748412033156</td><td>labuser10342477_1747973406@vocareum.com</td><td>OPTIMIZE</td><td>Map(predicate -> [], auto -> true, clusterBy -> [], zOrderBy -> [], batchId -> 0)</td><td>null</td><td>List(296149350687057)</td><td>0523-041054-ysw25i30</td><td>8</td><td>SnapshotIsolation</td><td>false</td><td>Map(numRemovedFiles -> 3, numRemovedBytes -> 3420, p25FileSize -> 1153, numDeletionVectorsRemoved -> 1, minFileSize -> 1153, numAddedFiles -> 1, maxFileSize -> 1153, p75FileSize -> 1153, p50FileSize -> 1153, numAddedBytes -> 1153)</td><td>null</td><td>Databricks-Runtime/15.4.x-scala2.12</td></tr><tr><td>8</td><td>2025-05-23T06:29:37Z</td><td>7363748412033156</td><td>labuser10342477_1747973406@vocareum.com</td><td>MERGE</td><td>Map(predicate -> [\"(id#47195 = id#46962)\"], matchedPredicates -> [{\"predicate\":\"(type#46965 = update)\",\"actionType\":\"update\"},{\"predicate\":\"(type#46965 = delete)\",\"actionType\":\"delete\"}], statsOnLoad -> false, notMatchedBySourcePredicates -> [], notMatchedPredicates -> [{\"predicate\":\"(type#46965 = insert)\",\"actionType\":\"insert\"}])</td><td>null</td><td>List(296149350687057)</td><td>0523-041054-ysw25i30</td><td>7</td><td>WriteSerializable</td><td>false</td><td>Map(numTargetRowsCopied -> 0, numTargetRowsDeleted -> 1, numTargetFilesAdded -> 2, numTargetBytesAdded -> 2228, numTargetBytesRemoved -> 0, numTargetDeletionVectorsAdded -> 1, numTargetRowsMatchedUpdated -> 1, executionTimeMs -> 3642, materializeSourceTimeMs -> 140, numTargetRowsInserted -> 1, numTargetRowsMatchedDeleted -> 1, numTargetDeletionVectorsUpdated -> 1, scanTimeMs -> 1432, numTargetRowsUpdated -> 1, numOutputRows -> 2, numTargetDeletionVectorsRemoved -> 1, numTargetRowsNotMatchedBySourceUpdated -> 0, numTargetChangeFilesAdded -> 0, numSourceRows -> 4, numTargetFilesRemoved -> 0, numTargetRowsNotMatchedBySourceDeleted -> 0, rewriteTimeMs -> 2031)</td><td>null</td><td>Databricks-Runtime/15.4.x-scala2.12</td></tr><tr><td>7</td><td>2025-05-23T06:29:31Z</td><td>7363748412033156</td><td>labuser10342477_1747973406@vocareum.com</td><td>OPTIMIZE</td><td>Map(predicate -> [], auto -> true, clusterBy -> [], zOrderBy -> [], batchId -> 0)</td><td>null</td><td>List(296149350687057)</td><td>0523-041054-ysw25i30</td><td>5</td><td>SnapshotIsolation</td><td>false</td><td>Map(numRemovedFiles -> 5, numRemovedBytes -> 5602, p25FileSize -> 1192, numDeletionVectorsRemoved -> 1, conflictDetectionTimeMs -> 415, minFileSize -> 1192, numAddedFiles -> 1, maxFileSize -> 1192, p75FileSize -> 1192, p50FileSize -> 1192, numAddedBytes -> 1192)</td><td>null</td><td>Databricks-Runtime/15.4.x-scala2.12</td></tr><tr><td>6</td><td>2025-05-23T06:29:29Z</td><td>7363748412033156</td><td>labuser10342477_1747973406@vocareum.com</td><td>DELETE</td><td>Map(predicate -> [\"(value#45631 > 6.0)\"])</td><td>null</td><td>List(296149350687057)</td><td>0523-041054-ysw25i30</td><td>5</td><td>WriteSerializable</td><td>false</td><td>Map(numRemovedFiles -> 1, numRemovedBytes -> 1140, numCopiedRows -> 0, numDeletionVectorsAdded -> 1, numDeletionVectorsRemoved -> 1, numAddedChangeFiles -> 0, executionTimeMs -> 1923, numDeletionVectorsUpdated -> 0, numDeletedRows -> 2, scanTimeMs -> 919, numAddedFiles -> 0, numAddedBytes -> 0, rewriteTimeMs -> 998)</td><td>null</td><td>Databricks-Runtime/15.4.x-scala2.12</td></tr><tr><td>5</td><td>2025-05-23T06:29:25Z</td><td>7363748412033156</td><td>labuser10342477_1747973406@vocareum.com</td><td>UPDATE</td><td>Map(predicate -> [\"StartsWith(name#44611, T)\"])</td><td>null</td><td>List(296149350687057)</td><td>0523-041054-ysw25i30</td><td>4</td><td>WriteSerializable</td><td>false</td><td>Map(numRemovedFiles -> 0, numRemovedBytes -> 0, numCopiedRows -> 0, numDeletionVectorsAdded -> 1, numDeletionVectorsRemoved -> 0, numAddedChangeFiles -> 0, executionTimeMs -> 2575, numDeletionVectorsUpdated -> 0, scanTimeMs -> 1191, numAddedFiles -> 1, numUpdatedRows -> 2, numAddedBytes -> 1128, rewriteTimeMs -> 1367)</td><td>null</td><td>Databricks-Runtime/15.4.x-scala2.12</td></tr><tr><td>4</td><td>2025-05-23T06:29:21Z</td><td>7363748412033156</td><td>labuser10342477_1747973406@vocareum.com</td><td>WRITE</td><td>Map(mode -> Append, statsOnLoad -> false, partitionBy -> [])</td><td>null</td><td>List(296149350687057)</td><td>0523-041054-ysw25i30</td><td>3</td><td>WriteSerializable</td><td>true</td><td>Map(numFiles -> 1, numOutputRows -> 3, numOutputBytes -> 1140)</td><td>null</td><td>Databricks-Runtime/15.4.x-scala2.12</td></tr><tr><td>3</td><td>2025-05-23T06:29:20Z</td><td>7363748412033156</td><td>labuser10342477_1747973406@vocareum.com</td><td>WRITE</td><td>Map(mode -> Append, statsOnLoad -> false, partitionBy -> [])</td><td>null</td><td>List(296149350687057)</td><td>0523-041054-ysw25i30</td><td>2</td><td>WriteSerializable</td><td>true</td><td>Map(numFiles -> 1, numOutputRows -> 1, numOutputBytes -> 1114)</td><td>null</td><td>Databricks-Runtime/15.4.x-scala2.12</td></tr><tr><td>2</td><td>2025-05-23T06:29:18Z</td><td>7363748412033156</td><td>labuser10342477_1747973406@vocareum.com</td><td>WRITE</td><td>Map(mode -> Append, statsOnLoad -> false, partitionBy -> [])</td><td>null</td><td>List(296149350687057)</td><td>0523-041054-ysw25i30</td><td>1</td><td>WriteSerializable</td><td>true</td><td>Map(numFiles -> 1, numOutputRows -> 1, numOutputBytes -> 1114)</td><td>null</td><td>Databricks-Runtime/15.4.x-scala2.12</td></tr><tr><td>1</td><td>2025-05-23T06:29:16Z</td><td>7363748412033156</td><td>labuser10342477_1747973406@vocareum.com</td><td>WRITE</td><td>Map(mode -> Append, statsOnLoad -> false, partitionBy -> [])</td><td>null</td><td>List(296149350687057)</td><td>0523-041054-ysw25i30</td><td>0</td><td>WriteSerializable</td><td>true</td><td>Map(numFiles -> 1, numOutputRows -> 1, numOutputBytes -> 1106)</td><td>null</td><td>Databricks-Runtime/15.4.x-scala2.12</td></tr><tr><td>0</td><td>2025-05-23T06:29:14Z</td><td>7363748412033156</td><td>labuser10342477_1747973406@vocareum.com</td><td>CREATE TABLE</td><td>Map(partitionBy -> [], clusterBy -> [], description -> null, isManaged -> true, properties -> {\"delta.enableDeletionVectors\":\"true\"}, statsOnLoad -> false)</td><td>null</td><td>List(296149350687057)</td><td>0523-041054-ysw25i30</td><td>null</td><td>WriteSerializable</td><td>true</td><td>Map()</td><td>null</td><td>Databricks-Runtime/15.4.x-scala2.12</td></tr></tbody></table></div>"
      ]
     },
     "metadata": {
      "application/vnd.databricks.v1+output": {
       "addedWidgets": {},
       "aggData": [],
       "aggError": "",
       "aggOverflow": false,
       "aggSchema": [],
       "aggSeriesLimitReached": false,
       "aggType": "",
       "arguments": {},
       "columnCustomDisplayInfos": {},
       "data": [
        [
         9,
         "2025-05-23T06:29:41Z",
         "7363748412033156",
         "labuser10342477_1747973406@vocareum.com",
         "OPTIMIZE",
         {
          "auto": "true",
          "batchId": "0",
          "clusterBy": "[]",
          "predicate": "[]",
          "zOrderBy": "[]"
         },
         null,
         [
          "296149350687057"
         ],
         "0523-041054-ysw25i30",
         8,
         "SnapshotIsolation",
         false,
         {
          "maxFileSize": "1153",
          "minFileSize": "1153",
          "numAddedBytes": "1153",
          "numAddedFiles": "1",
          "numDeletionVectorsRemoved": "1",
          "numRemovedBytes": "3420",
          "numRemovedFiles": "3",
          "p25FileSize": "1153",
          "p50FileSize": "1153",
          "p75FileSize": "1153"
         },
         null,
         "Databricks-Runtime/15.4.x-scala2.12"
        ],
        [
         8,
         "2025-05-23T06:29:37Z",
         "7363748412033156",
         "labuser10342477_1747973406@vocareum.com",
         "MERGE",
         {
          "matchedPredicates": "[{\"predicate\":\"(type#46965 = update)\",\"actionType\":\"update\"},{\"predicate\":\"(type#46965 = delete)\",\"actionType\":\"delete\"}]",
          "notMatchedBySourcePredicates": "[]",
          "notMatchedPredicates": "[{\"predicate\":\"(type#46965 = insert)\",\"actionType\":\"insert\"}]",
          "predicate": "[\"(id#47195 = id#46962)\"]",
          "statsOnLoad": "false"
         },
         null,
         [
          "296149350687057"
         ],
         "0523-041054-ysw25i30",
         7,
         "WriteSerializable",
         false,
         {
          "executionTimeMs": "3642",
          "materializeSourceTimeMs": "140",
          "numOutputRows": "2",
          "numSourceRows": "4",
          "numTargetBytesAdded": "2228",
          "numTargetBytesRemoved": "0",
          "numTargetChangeFilesAdded": "0",
          "numTargetDeletionVectorsAdded": "1",
          "numTargetDeletionVectorsRemoved": "1",
          "numTargetDeletionVectorsUpdated": "1",
          "numTargetFilesAdded": "2",
          "numTargetFilesRemoved": "0",
          "numTargetRowsCopied": "0",
          "numTargetRowsDeleted": "1",
          "numTargetRowsInserted": "1",
          "numTargetRowsMatchedDeleted": "1",
          "numTargetRowsMatchedUpdated": "1",
          "numTargetRowsNotMatchedBySourceDeleted": "0",
          "numTargetRowsNotMatchedBySourceUpdated": "0",
          "numTargetRowsUpdated": "1",
          "rewriteTimeMs": "2031",
          "scanTimeMs": "1432"
         },
         null,
         "Databricks-Runtime/15.4.x-scala2.12"
        ],
        [
         7,
         "2025-05-23T06:29:31Z",
         "7363748412033156",
         "labuser10342477_1747973406@vocareum.com",
         "OPTIMIZE",
         {
          "auto": "true",
          "batchId": "0",
          "clusterBy": "[]",
          "predicate": "[]",
          "zOrderBy": "[]"
         },
         null,
         [
          "296149350687057"
         ],
         "0523-041054-ysw25i30",
         5,
         "SnapshotIsolation",
         false,
         {
          "conflictDetectionTimeMs": "415",
          "maxFileSize": "1192",
          "minFileSize": "1192",
          "numAddedBytes": "1192",
          "numAddedFiles": "1",
          "numDeletionVectorsRemoved": "1",
          "numRemovedBytes": "5602",
          "numRemovedFiles": "5",
          "p25FileSize": "1192",
          "p50FileSize": "1192",
          "p75FileSize": "1192"
         },
         null,
         "Databricks-Runtime/15.4.x-scala2.12"
        ],
        [
         6,
         "2025-05-23T06:29:29Z",
         "7363748412033156",
         "labuser10342477_1747973406@vocareum.com",
         "DELETE",
         {
          "predicate": "[\"(value#45631 > 6.0)\"]"
         },
         null,
         [
          "296149350687057"
         ],
         "0523-041054-ysw25i30",
         5,
         "WriteSerializable",
         false,
         {
          "executionTimeMs": "1923",
          "numAddedBytes": "0",
          "numAddedChangeFiles": "0",
          "numAddedFiles": "0",
          "numCopiedRows": "0",
          "numDeletedRows": "2",
          "numDeletionVectorsAdded": "1",
          "numDeletionVectorsRemoved": "1",
          "numDeletionVectorsUpdated": "0",
          "numRemovedBytes": "1140",
          "numRemovedFiles": "1",
          "rewriteTimeMs": "998",
          "scanTimeMs": "919"
         },
         null,
         "Databricks-Runtime/15.4.x-scala2.12"
        ],
        [
         5,
         "2025-05-23T06:29:25Z",
         "7363748412033156",
         "labuser10342477_1747973406@vocareum.com",
         "UPDATE",
         {
          "predicate": "[\"StartsWith(name#44611, T)\"]"
         },
         null,
         [
          "296149350687057"
         ],
         "0523-041054-ysw25i30",
         4,
         "WriteSerializable",
         false,
         {
          "executionTimeMs": "2575",
          "numAddedBytes": "1128",
          "numAddedChangeFiles": "0",
          "numAddedFiles": "1",
          "numCopiedRows": "0",
          "numDeletionVectorsAdded": "1",
          "numDeletionVectorsRemoved": "0",
          "numDeletionVectorsUpdated": "0",
          "numRemovedBytes": "0",
          "numRemovedFiles": "0",
          "numUpdatedRows": "2",
          "rewriteTimeMs": "1367",
          "scanTimeMs": "1191"
         },
         null,
         "Databricks-Runtime/15.4.x-scala2.12"
        ],
        [
         4,
         "2025-05-23T06:29:21Z",
         "7363748412033156",
         "labuser10342477_1747973406@vocareum.com",
         "WRITE",
         {
          "mode": "Append",
          "partitionBy": "[]",
          "statsOnLoad": "false"
         },
         null,
         [
          "296149350687057"
         ],
         "0523-041054-ysw25i30",
         3,
         "WriteSerializable",
         true,
         {
          "numFiles": "1",
          "numOutputBytes": "1140",
          "numOutputRows": "3"
         },
         null,
         "Databricks-Runtime/15.4.x-scala2.12"
        ],
        [
         3,
         "2025-05-23T06:29:20Z",
         "7363748412033156",
         "labuser10342477_1747973406@vocareum.com",
         "WRITE",
         {
          "mode": "Append",
          "partitionBy": "[]",
          "statsOnLoad": "false"
         },
         null,
         [
          "296149350687057"
         ],
         "0523-041054-ysw25i30",
         2,
         "WriteSerializable",
         true,
         {
          "numFiles": "1",
          "numOutputBytes": "1114",
          "numOutputRows": "1"
         },
         null,
         "Databricks-Runtime/15.4.x-scala2.12"
        ],
        [
         2,
         "2025-05-23T06:29:18Z",
         "7363748412033156",
         "labuser10342477_1747973406@vocareum.com",
         "WRITE",
         {
          "mode": "Append",
          "partitionBy": "[]",
          "statsOnLoad": "false"
         },
         null,
         [
          "296149350687057"
         ],
         "0523-041054-ysw25i30",
         1,
         "WriteSerializable",
         true,
         {
          "numFiles": "1",
          "numOutputBytes": "1114",
          "numOutputRows": "1"
         },
         null,
         "Databricks-Runtime/15.4.x-scala2.12"
        ],
        [
         1,
         "2025-05-23T06:29:16Z",
         "7363748412033156",
         "labuser10342477_1747973406@vocareum.com",
         "WRITE",
         {
          "mode": "Append",
          "partitionBy": "[]",
          "statsOnLoad": "false"
         },
         null,
         [
          "296149350687057"
         ],
         "0523-041054-ysw25i30",
         0,
         "WriteSerializable",
         true,
         {
          "numFiles": "1",
          "numOutputBytes": "1106",
          "numOutputRows": "1"
         },
         null,
         "Databricks-Runtime/15.4.x-scala2.12"
        ],
        [
         0,
         "2025-05-23T06:29:14Z",
         "7363748412033156",
         "labuser10342477_1747973406@vocareum.com",
         "CREATE TABLE",
         {
          "clusterBy": "[]",
          "description": null,
          "isManaged": "true",
          "partitionBy": "[]",
          "properties": "{\"delta.enableDeletionVectors\":\"true\"}",
          "statsOnLoad": "false"
         },
         null,
         [
          "296149350687057"
         ],
         "0523-041054-ysw25i30",
         null,
         "WriteSerializable",
         true,
         {},
         null,
         "Databricks-Runtime/15.4.x-scala2.12"
        ]
       ],
       "datasetInfos": [],
       "dbfsResultPath": null,
       "isJsonSchema": true,
       "metadata": {
        "isDbfsCommandResult": false
       },
       "overflow": false,
       "plotOptions": {
        "customPlotOptions": {},
        "displayType": "table",
        "pivotAggregation": null,
        "pivotColumns": null,
        "xColumns": null,
        "yColumns": null
       },
       "removedWidgets": [],
       "schema": [
        {
         "metadata": "{}",
         "name": "version",
         "type": "\"long\""
        },
        {
         "metadata": "{}",
         "name": "timestamp",
         "type": "\"timestamp\""
        },
        {
         "metadata": "{}",
         "name": "userId",
         "type": "\"string\""
        },
        {
         "metadata": "{}",
         "name": "userName",
         "type": "\"string\""
        },
        {
         "metadata": "{}",
         "name": "operation",
         "type": "\"string\""
        },
        {
         "metadata": "{}",
         "name": "operationParameters",
         "type": "{\"type\":\"map\",\"keyType\":\"string\",\"valueType\":\"string\",\"valueContainsNull\":true}"
        },
        {
         "metadata": "{}",
         "name": "job",
         "type": "{\"type\":\"struct\",\"fields\":[{\"name\":\"jobId\",\"type\":\"string\",\"nullable\":true,\"metadata\":{}},{\"name\":\"jobName\",\"type\":\"string\",\"nullable\":true,\"metadata\":{}},{\"name\":\"jobRunId\",\"type\":\"string\",\"nullable\":true,\"metadata\":{}},{\"name\":\"runId\",\"type\":\"string\",\"nullable\":true,\"metadata\":{}},{\"name\":\"jobOwnerId\",\"type\":\"string\",\"nullable\":true,\"metadata\":{}},{\"name\":\"triggerType\",\"type\":\"string\",\"nullable\":true,\"metadata\":{}}]}"
        },
        {
         "metadata": "{}",
         "name": "notebook",
         "type": "{\"type\":\"struct\",\"fields\":[{\"name\":\"notebookId\",\"type\":\"string\",\"nullable\":true,\"metadata\":{}}]}"
        },
        {
         "metadata": "{}",
         "name": "clusterId",
         "type": "\"string\""
        },
        {
         "metadata": "{}",
         "name": "readVersion",
         "type": "\"long\""
        },
        {
         "metadata": "{}",
         "name": "isolationLevel",
         "type": "\"string\""
        },
        {
         "metadata": "{}",
         "name": "isBlindAppend",
         "type": "\"boolean\""
        },
        {
         "metadata": "{}",
         "name": "operationMetrics",
         "type": "{\"type\":\"map\",\"keyType\":\"string\",\"valueType\":\"string\",\"valueContainsNull\":true}"
        },
        {
         "metadata": "{}",
         "name": "userMetadata",
         "type": "\"string\""
        },
        {
         "metadata": "{}",
         "name": "engineInfo",
         "type": "\"string\""
        }
       ],
       "type": "table"
      }
     },
     "output_type": "display_data"
    }
   ],
   "source": [
    "DESCRIBE HISTORY students;"
   ]
  },
  {
   "cell_type": "markdown",
   "metadata": {
    "application/vnd.databricks.v1+cell": {
     "cellMetadata": {},
     "inputWidgets": {},
     "nuid": "c77af623-be52-4bf1-9dec-75762415868c",
     "showTitle": false,
     "tableResultSettingsMap": {},
     "title": ""
    }
   },
   "source": [
    "## Deletion Vectors\n",
    "Note that the log includes an **OPTIMIZE** operation, yet we never called **`OPTIMIZE`** on the **`students`** table. If you open the `operationParameters` for the **`OPTIMIZE`** operation, you will see that `auto: true`. This is because Deletion Vectors triggered auto-compaction. When we delete rows from a table, Deletion Vectors mark those rows for deletion but do not re-write the underlying Parquet files. This helps reduce the so-called small file problem, where a table is made up of a large number of small Parquet files. However, Deletion Vectors will trigger auto-compaction, and the underlying files are re-written."
   ]
  },
  {
   "cell_type": "markdown",
   "metadata": {
    "application/vnd.databricks.v1+cell": {
     "cellMetadata": {},
     "inputWidgets": {},
     "nuid": "5e7c1d25-690a-4e7a-9194-03383038d880",
     "showTitle": false,
     "tableResultSettingsMap": {},
     "title": ""
    }
   },
   "source": [
    "\n",
    "\n",
    "## Delta Lake Time Travel\n",
    "\n",
    "Delta Lake gives us the opportunity to query tables at any point in the transaction log. These time travel queries can be performed by specifying either the version number or the timestamp.\n",
    "\n",
    "**NOTE**: In most cases, you'll use a timestamp to recreate data at a time of interest. For our demo we'll use version."
   ]
  },
  {
   "cell_type": "code",
   "execution_count": 0,
   "metadata": {
    "application/vnd.databricks.v1+cell": {
     "cellMetadata": {
      "byteLimit": 2048000,
      "rowLimit": 10000
     },
     "inputWidgets": {},
     "nuid": "774e7c4e-1fd8-4db4-93d8-e4f553cfb91c",
     "showTitle": false,
     "tableResultSettingsMap": {},
     "title": ""
    }
   },
   "outputs": [
    {
     "output_type": "display_data",
     "data": {
      "text/html": [
       "<style scoped>\n",
       "  .table-result-container {\n",
       "    max-height: 300px;\n",
       "    overflow: auto;\n",
       "  }\n",
       "  table, th, td {\n",
       "    border: 1px solid black;\n",
       "    border-collapse: collapse;\n",
       "  }\n",
       "  th, td {\n",
       "    padding: 5px;\n",
       "  }\n",
       "  th {\n",
       "    text-align: left;\n",
       "  }\n",
       "</style><div class='table-result-container'><table class='table-result'><thead style='background-color: white'><tr><th>id</th><th>name</th><th>value</th></tr></thead><tbody><tr><td>3</td><td>Elia</td><td>3.3</td></tr><tr><td>2</td><td>Omar</td><td>2.5</td></tr><tr><td>1</td><td>Yve</td><td>1.0</td></tr></tbody></table></div>"
      ]
     },
     "metadata": {
      "application/vnd.databricks.v1+output": {
       "addedWidgets": {},
       "aggData": [],
       "aggError": "",
       "aggOverflow": false,
       "aggSchema": [],
       "aggSeriesLimitReached": false,
       "aggType": "",
       "arguments": {},
       "columnCustomDisplayInfos": {},
       "data": [
        [
         3,
         "Elia",
         3.3
        ],
        [
         2,
         "Omar",
         2.5
        ],
        [
         1,
         "Yve",
         1.0
        ]
       ],
       "datasetInfos": [],
       "dbfsResultPath": null,
       "isJsonSchema": true,
       "metadata": {
        "isDbfsCommandResult": false
       },
       "overflow": false,
       "plotOptions": {
        "customPlotOptions": {},
        "displayType": "table",
        "pivotAggregation": null,
        "pivotColumns": null,
        "xColumns": null,
        "yColumns": null
       },
       "removedWidgets": [],
       "schema": [
        {
         "metadata": "{}",
         "name": "id",
         "type": "\"integer\""
        },
        {
         "metadata": "{}",
         "name": "name",
         "type": "\"string\""
        },
        {
         "metadata": "{}",
         "name": "value",
         "type": "\"double\""
        }
       ],
       "type": "table"
      }
     },
     "output_type": "display_data"
    }
   ],
   "source": [
    "SELECT * \n",
    "FROM students VERSION AS OF 3;"
   ]
  },
  {
   "cell_type": "markdown",
   "metadata": {
    "application/vnd.databricks.v1+cell": {
     "cellMetadata": {},
     "inputWidgets": {},
     "nuid": "3ae54729-a217-4d93-9b17-2f116ec8c4c9",
     "showTitle": false,
     "tableResultSettingsMap": {},
     "title": ""
    }
   },
   "source": [
    "\n",
    "\n",
    "What's important to note about time travel is that we're not recreating a previous state of the table by undoing transactions against our current version; rather, we're just querying all those data files that were indicated as valid as of the specified version."
   ]
  },
  {
   "cell_type": "markdown",
   "metadata": {
    "application/vnd.databricks.v1+cell": {
     "cellMetadata": {},
     "inputWidgets": {},
     "nuid": "f38e2830-0033-4cb4-aeb2-fa31d99a9829",
     "showTitle": false,
     "tableResultSettingsMap": {},
     "title": ""
    }
   },
   "source": [
    "## Rollback Versions\n",
    "\n",
    "Suppose you're typing up a query to manually delete some records from a table and you accidentally delete all records."
   ]
  },
  {
   "cell_type": "code",
   "execution_count": 0,
   "metadata": {
    "application/vnd.databricks.v1+cell": {
     "cellMetadata": {
      "byteLimit": 2048000,
      "rowLimit": 10000
     },
     "inputWidgets": {},
     "nuid": "0fcda515-473e-4693-8d68-2f0d89d980e1",
     "showTitle": false,
     "tableResultSettingsMap": {},
     "title": ""
    }
   },
   "outputs": [
    {
     "output_type": "display_data",
     "data": {
      "text/html": [
       "<style scoped>\n",
       "  .table-result-container {\n",
       "    max-height: 300px;\n",
       "    overflow: auto;\n",
       "  }\n",
       "  table, th, td {\n",
       "    border: 1px solid black;\n",
       "    border-collapse: collapse;\n",
       "  }\n",
       "  th, td {\n",
       "    padding: 5px;\n",
       "  }\n",
       "  th {\n",
       "    text-align: left;\n",
       "  }\n",
       "</style><div class='table-result-container'><table class='table-result'><thead style='background-color: white'><tr><th>num_affected_rows</th></tr></thead><tbody><tr><td>4</td></tr></tbody></table></div>"
      ]
     },
     "metadata": {
      "application/vnd.databricks.v1+output": {
       "addedWidgets": {},
       "aggData": [],
       "aggError": "",
       "aggOverflow": false,
       "aggSchema": [],
       "aggSeriesLimitReached": false,
       "aggType": "",
       "arguments": {},
       "columnCustomDisplayInfos": {},
       "data": [
        [
         4
        ]
       ],
       "datasetInfos": [],
       "dbfsResultPath": null,
       "isJsonSchema": true,
       "metadata": {
        "isDbfsCommandResult": false
       },
       "overflow": false,
       "plotOptions": {
        "customPlotOptions": {},
        "displayType": "table",
        "pivotAggregation": null,
        "pivotColumns": null,
        "xColumns": null,
        "yColumns": null
       },
       "removedWidgets": [],
       "schema": [
        {
         "metadata": "{}",
         "name": "num_affected_rows",
         "type": "\"long\""
        }
       ],
       "type": "table"
      }
     },
     "output_type": "display_data"
    }
   ],
   "source": [
    "DELETE FROM students;"
   ]
  },
  {
   "cell_type": "markdown",
   "metadata": {
    "application/vnd.databricks.v1+cell": {
     "cellMetadata": {},
     "inputWidgets": {},
     "nuid": "29e67f89-08dc-4d01-901d-4440012d70fa",
     "showTitle": false,
     "tableResultSettingsMap": {},
     "title": ""
    }
   },
   "source": [
    "From the output above, we can see that 4 rows were removed.\n",
    "\n",
    "Let's confirm this below."
   ]
  },
  {
   "cell_type": "code",
   "execution_count": 0,
   "metadata": {
    "application/vnd.databricks.v1+cell": {
     "cellMetadata": {
      "byteLimit": 2048000,
      "rowLimit": 10000
     },
     "inputWidgets": {},
     "nuid": "f7c55314-e937-4808-aceb-ff944cf8b743",
     "showTitle": false,
     "tableResultSettingsMap": {},
     "title": ""
    }
   },
   "outputs": [
    {
     "output_type": "display_data",
     "data": {
      "text/html": [
       "<style scoped>\n",
       "  .table-result-container {\n",
       "    max-height: 300px;\n",
       "    overflow: auto;\n",
       "  }\n",
       "  table, th, td {\n",
       "    border: 1px solid black;\n",
       "    border-collapse: collapse;\n",
       "  }\n",
       "  th, td {\n",
       "    padding: 5px;\n",
       "  }\n",
       "  th {\n",
       "    text-align: left;\n",
       "  }\n",
       "</style><div class='table-result-container'><table class='table-result'><thead style='background-color: white'><tr><th>id</th><th>name</th><th>value</th></tr></thead><tbody></tbody></table></div>"
      ]
     },
     "metadata": {
      "application/vnd.databricks.v1+output": {
       "addedWidgets": {},
       "aggData": [],
       "aggError": "",
       "aggOverflow": false,
       "aggSchema": [],
       "aggSeriesLimitReached": false,
       "aggType": "",
       "arguments": {},
       "columnCustomDisplayInfos": {},
       "data": [],
       "datasetInfos": [],
       "dbfsResultPath": null,
       "isJsonSchema": true,
       "metadata": {
        "isDbfsCommandResult": false
       },
       "overflow": false,
       "plotOptions": {
        "customPlotOptions": {},
        "displayType": "table",
        "pivotAggregation": null,
        "pivotColumns": null,
        "xColumns": null,
        "yColumns": null
       },
       "removedWidgets": [],
       "schema": [
        {
         "metadata": "{}",
         "name": "id",
         "type": "\"integer\""
        },
        {
         "metadata": "{}",
         "name": "name",
         "type": "\"string\""
        },
        {
         "metadata": "{}",
         "name": "value",
         "type": "\"double\""
        }
       ],
       "type": "table"
      }
     },
     "output_type": "display_data"
    }
   ],
   "source": [
    "SELECT * \n",
    "FROM students;"
   ]
  },
  {
   "cell_type": "markdown",
   "metadata": {
    "application/vnd.databricks.v1+cell": {
     "cellMetadata": {},
     "inputWidgets": {},
     "nuid": "9500629c-7fed-4371-9d4b-02d1e8ea660e",
     "showTitle": false,
     "tableResultSettingsMap": {},
     "title": ""
    }
   },
   "source": [
    "Deleting all the records in your table is probably not a desired outcome. Luckily, we can simply rollback this commit."
   ]
  },
  {
   "cell_type": "code",
   "execution_count": 0,
   "metadata": {
    "application/vnd.databricks.v1+cell": {
     "cellMetadata": {
      "byteLimit": 2048000,
      "rowLimit": 10000
     },
     "inputWidgets": {},
     "nuid": "e2bbb43c-16de-4742-b4cf-5118f162f8a9",
     "showTitle": false,
     "tableResultSettingsMap": {},
     "title": ""
    }
   },
   "outputs": [
    {
     "output_type": "display_data",
     "data": {
      "text/html": [
       "<style scoped>\n",
       "  .table-result-container {\n",
       "    max-height: 300px;\n",
       "    overflow: auto;\n",
       "  }\n",
       "  table, th, td {\n",
       "    border: 1px solid black;\n",
       "    border-collapse: collapse;\n",
       "  }\n",
       "  th, td {\n",
       "    padding: 5px;\n",
       "  }\n",
       "  th {\n",
       "    text-align: left;\n",
       "  }\n",
       "</style><div class='table-result-container'><table class='table-result'><thead style='background-color: white'><tr><th>table_size_after_restore</th><th>num_of_files_after_restore</th><th>num_removed_files</th><th>num_restored_files</th><th>removed_files_size</th><th>restored_files_size</th></tr></thead><tbody><tr><td>3420</td><td>3</td><td>0</td><td>3</td><td>0</td><td>3420</td></tr></tbody></table></div>"
      ]
     },
     "metadata": {
      "application/vnd.databricks.v1+output": {
       "addedWidgets": {},
       "aggData": [],
       "aggError": "",
       "aggOverflow": false,
       "aggSchema": [],
       "aggSeriesLimitReached": false,
       "aggType": "",
       "arguments": {},
       "columnCustomDisplayInfos": {},
       "data": [
        [
         3420,
         3,
         0,
         3,
         0,
         3420
        ]
       ],
       "datasetInfos": [],
       "dbfsResultPath": null,
       "isJsonSchema": true,
       "metadata": {
        "isDbfsCommandResult": false
       },
       "overflow": false,
       "plotOptions": {
        "customPlotOptions": {},
        "displayType": "table",
        "pivotAggregation": null,
        "pivotColumns": null,
        "xColumns": null,
        "yColumns": null
       },
       "removedWidgets": [],
       "schema": [
        {
         "metadata": "{}",
         "name": "table_size_after_restore",
         "type": "\"long\""
        },
        {
         "metadata": "{}",
         "name": "num_of_files_after_restore",
         "type": "\"long\""
        },
        {
         "metadata": "{}",
         "name": "num_removed_files",
         "type": "\"long\""
        },
        {
         "metadata": "{}",
         "name": "num_restored_files",
         "type": "\"long\""
        },
        {
         "metadata": "{}",
         "name": "removed_files_size",
         "type": "\"long\""
        },
        {
         "metadata": "{}",
         "name": "restored_files_size",
         "type": "\"long\""
        }
       ],
       "type": "table"
      }
     },
     "output_type": "display_data"
    }
   ],
   "source": [
    "RESTORE TABLE students TO VERSION AS OF 8;"
   ]
  },
  {
   "cell_type": "code",
   "execution_count": 0,
   "metadata": {
    "application/vnd.databricks.v1+cell": {
     "cellMetadata": {
      "byteLimit": 2048000,
      "rowLimit": 10000
     },
     "inputWidgets": {},
     "nuid": "683af9bd-a140-47ed-ac69-b72e253e4ca5",
     "showTitle": false,
     "tableResultSettingsMap": {},
     "title": ""
    }
   },
   "outputs": [
    {
     "output_type": "display_data",
     "data": {
      "text/html": [
       "<style scoped>\n",
       "  .table-result-container {\n",
       "    max-height: 300px;\n",
       "    overflow: auto;\n",
       "  }\n",
       "  table, th, td {\n",
       "    border: 1px solid black;\n",
       "    border-collapse: collapse;\n",
       "  }\n",
       "  th, td {\n",
       "    padding: 5px;\n",
       "  }\n",
       "  th {\n",
       "    text-align: left;\n",
       "  }\n",
       "</style><div class='table-result-container'><table class='table-result'><thead style='background-color: white'><tr><th>id</th><th>name</th><th>value</th></tr></thead><tbody><tr><td>1</td><td>Yve</td><td>1.0</td></tr><tr><td>4</td><td>Ted</td><td>5.7</td></tr><tr><td>2</td><td>Omar</td><td>15.2</td></tr><tr><td>7</td><td>Blue</td><td>7.7</td></tr></tbody></table></div>"
      ]
     },
     "metadata": {
      "application/vnd.databricks.v1+output": {
       "addedWidgets": {},
       "aggData": [],
       "aggError": "",
       "aggOverflow": false,
       "aggSchema": [],
       "aggSeriesLimitReached": false,
       "aggType": "",
       "arguments": {},
       "columnCustomDisplayInfos": {},
       "data": [
        [
         1,
         "Yve",
         1.0
        ],
        [
         4,
         "Ted",
         5.7
        ],
        [
         2,
         "Omar",
         15.2
        ],
        [
         7,
         "Blue",
         7.7
        ]
       ],
       "datasetInfos": [],
       "dbfsResultPath": null,
       "isJsonSchema": true,
       "metadata": {
        "isDbfsCommandResult": false
       },
       "overflow": false,
       "plotOptions": {
        "customPlotOptions": {},
        "displayType": "table",
        "pivotAggregation": null,
        "pivotColumns": null,
        "xColumns": null,
        "yColumns": null
       },
       "removedWidgets": [],
       "schema": [
        {
         "metadata": "{}",
         "name": "id",
         "type": "\"integer\""
        },
        {
         "metadata": "{}",
         "name": "name",
         "type": "\"string\""
        },
        {
         "metadata": "{}",
         "name": "value",
         "type": "\"double\""
        }
       ],
       "type": "table"
      }
     },
     "output_type": "display_data"
    }
   ],
   "source": [
    "-- Confirm table has been 'Restored'\n",
    "SELECT * \n",
    "FROM students;"
   ]
  },
  {
   "cell_type": "markdown",
   "metadata": {
    "application/vnd.databricks.v1+cell": {
     "cellMetadata": {},
     "inputWidgets": {},
     "nuid": "36da71a3-31f4-4a4a-96cf-10064e3c7fd0",
     "showTitle": false,
     "tableResultSettingsMap": {},
     "title": ""
    }
   },
   "source": [
    "Note that a **`RESTORE`** <a href=\"https://docs.databricks.com/spark/latest/spark-sql/language-manual/delta-restore.html\" target=\"_blank\">command</a> is recorded as a transaction; you won't be able to completely hide the fact that you accidentally deleted all the records in the table, but you will be able to undo the operation and bring your table back to a desired state."
   ]
  },
  {
   "cell_type": "code",
   "execution_count": 0,
   "metadata": {
    "application/vnd.databricks.v1+cell": {
     "cellMetadata": {
      "byteLimit": 2048000,
      "rowLimit": 10000
     },
     "inputWidgets": {},
     "nuid": "23c1e323-8af9-4ebb-8ea3-969dcdd91ce7",
     "showTitle": false,
     "tableResultSettingsMap": {},
     "title": ""
    }
   },
   "outputs": [
    {
     "output_type": "display_data",
     "data": {
      "text/html": [
       "<style scoped>\n",
       "  .table-result-container {\n",
       "    max-height: 300px;\n",
       "    overflow: auto;\n",
       "  }\n",
       "  table, th, td {\n",
       "    border: 1px solid black;\n",
       "    border-collapse: collapse;\n",
       "  }\n",
       "  th, td {\n",
       "    padding: 5px;\n",
       "  }\n",
       "  th {\n",
       "    text-align: left;\n",
       "  }\n",
       "</style><div class='table-result-container'><table class='table-result'><thead style='background-color: white'><tr><th>version</th><th>timestamp</th><th>userId</th><th>userName</th><th>operation</th><th>operationParameters</th><th>job</th><th>notebook</th><th>clusterId</th><th>readVersion</th><th>isolationLevel</th><th>isBlindAppend</th><th>operationMetrics</th><th>userMetadata</th><th>engineInfo</th></tr></thead><tbody><tr><td>11</td><td>2025-05-23T06:33:54Z</td><td>7363748412033156</td><td>labuser10342477_1747973406@vocareum.com</td><td>RESTORE</td><td>Map(version -> 8, timestamp -> null)</td><td>null</td><td>List(296149350687057)</td><td>0523-041054-ysw25i30</td><td>10</td><td>Serializable</td><td>false</td><td>Map(numRestoredFiles -> 3, removedFilesSize -> 0, numRemovedFiles -> 0, restoredFilesSize -> 3420, numOfFilesAfterRestore -> 3, tableSizeAfterRestore -> 3420)</td><td>null</td><td>Databricks-Runtime/15.4.x-scala2.12</td></tr><tr><td>10</td><td>2025-05-23T06:33:30Z</td><td>7363748412033156</td><td>labuser10342477_1747973406@vocareum.com</td><td>DELETE</td><td>Map(predicate -> [\"true\"])</td><td>null</td><td>List(296149350687057)</td><td>0523-041054-ysw25i30</td><td>9</td><td>WriteSerializable</td><td>false</td><td>Map(numRemovedFiles -> 1, numRemovedBytes -> 1153, numCopiedRows -> 0, numDeletionVectorsAdded -> 0, numDeletionVectorsRemoved -> 0, numAddedChangeFiles -> 0, executionTimeMs -> 252, numDeletionVectorsUpdated -> 0, numDeletedRows -> 4, scanTimeMs -> 249, numAddedFiles -> 0, numAddedBytes -> 0, rewriteTimeMs -> 0)</td><td>null</td><td>Databricks-Runtime/15.4.x-scala2.12</td></tr><tr><td>9</td><td>2025-05-23T06:29:41Z</td><td>7363748412033156</td><td>labuser10342477_1747973406@vocareum.com</td><td>OPTIMIZE</td><td>Map(predicate -> [], auto -> true, clusterBy -> [], zOrderBy -> [], batchId -> 0)</td><td>null</td><td>List(296149350687057)</td><td>0523-041054-ysw25i30</td><td>8</td><td>SnapshotIsolation</td><td>false</td><td>Map(numRemovedFiles -> 3, numRemovedBytes -> 3420, p25FileSize -> 1153, numDeletionVectorsRemoved -> 1, minFileSize -> 1153, numAddedFiles -> 1, maxFileSize -> 1153, p75FileSize -> 1153, p50FileSize -> 1153, numAddedBytes -> 1153)</td><td>null</td><td>Databricks-Runtime/15.4.x-scala2.12</td></tr><tr><td>8</td><td>2025-05-23T06:29:37Z</td><td>7363748412033156</td><td>labuser10342477_1747973406@vocareum.com</td><td>MERGE</td><td>Map(predicate -> [\"(id#47195 = id#46962)\"], matchedPredicates -> [{\"predicate\":\"(type#46965 = update)\",\"actionType\":\"update\"},{\"predicate\":\"(type#46965 = delete)\",\"actionType\":\"delete\"}], statsOnLoad -> false, notMatchedBySourcePredicates -> [], notMatchedPredicates -> [{\"predicate\":\"(type#46965 = insert)\",\"actionType\":\"insert\"}])</td><td>null</td><td>List(296149350687057)</td><td>0523-041054-ysw25i30</td><td>7</td><td>WriteSerializable</td><td>false</td><td>Map(numTargetRowsCopied -> 0, numTargetRowsDeleted -> 1, numTargetFilesAdded -> 2, numTargetBytesAdded -> 2228, numTargetBytesRemoved -> 0, numTargetDeletionVectorsAdded -> 1, numTargetRowsMatchedUpdated -> 1, executionTimeMs -> 3642, materializeSourceTimeMs -> 140, numTargetRowsInserted -> 1, numTargetRowsMatchedDeleted -> 1, numTargetDeletionVectorsUpdated -> 1, scanTimeMs -> 1432, numTargetRowsUpdated -> 1, numOutputRows -> 2, numTargetDeletionVectorsRemoved -> 1, numTargetRowsNotMatchedBySourceUpdated -> 0, numTargetChangeFilesAdded -> 0, numSourceRows -> 4, numTargetFilesRemoved -> 0, numTargetRowsNotMatchedBySourceDeleted -> 0, rewriteTimeMs -> 2031)</td><td>null</td><td>Databricks-Runtime/15.4.x-scala2.12</td></tr><tr><td>7</td><td>2025-05-23T06:29:31Z</td><td>7363748412033156</td><td>labuser10342477_1747973406@vocareum.com</td><td>OPTIMIZE</td><td>Map(predicate -> [], auto -> true, clusterBy -> [], zOrderBy -> [], batchId -> 0)</td><td>null</td><td>List(296149350687057)</td><td>0523-041054-ysw25i30</td><td>5</td><td>SnapshotIsolation</td><td>false</td><td>Map(numRemovedFiles -> 5, numRemovedBytes -> 5602, p25FileSize -> 1192, numDeletionVectorsRemoved -> 1, conflictDetectionTimeMs -> 415, minFileSize -> 1192, numAddedFiles -> 1, maxFileSize -> 1192, p75FileSize -> 1192, p50FileSize -> 1192, numAddedBytes -> 1192)</td><td>null</td><td>Databricks-Runtime/15.4.x-scala2.12</td></tr><tr><td>6</td><td>2025-05-23T06:29:29Z</td><td>7363748412033156</td><td>labuser10342477_1747973406@vocareum.com</td><td>DELETE</td><td>Map(predicate -> [\"(value#45631 > 6.0)\"])</td><td>null</td><td>List(296149350687057)</td><td>0523-041054-ysw25i30</td><td>5</td><td>WriteSerializable</td><td>false</td><td>Map(numRemovedFiles -> 1, numRemovedBytes -> 1140, numCopiedRows -> 0, numDeletionVectorsAdded -> 1, numDeletionVectorsRemoved -> 1, numAddedChangeFiles -> 0, executionTimeMs -> 1923, numDeletionVectorsUpdated -> 0, numDeletedRows -> 2, scanTimeMs -> 919, numAddedFiles -> 0, numAddedBytes -> 0, rewriteTimeMs -> 998)</td><td>null</td><td>Databricks-Runtime/15.4.x-scala2.12</td></tr><tr><td>5</td><td>2025-05-23T06:29:25Z</td><td>7363748412033156</td><td>labuser10342477_1747973406@vocareum.com</td><td>UPDATE</td><td>Map(predicate -> [\"StartsWith(name#44611, T)\"])</td><td>null</td><td>List(296149350687057)</td><td>0523-041054-ysw25i30</td><td>4</td><td>WriteSerializable</td><td>false</td><td>Map(numRemovedFiles -> 0, numRemovedBytes -> 0, numCopiedRows -> 0, numDeletionVectorsAdded -> 1, numDeletionVectorsRemoved -> 0, numAddedChangeFiles -> 0, executionTimeMs -> 2575, numDeletionVectorsUpdated -> 0, scanTimeMs -> 1191, numAddedFiles -> 1, numUpdatedRows -> 2, numAddedBytes -> 1128, rewriteTimeMs -> 1367)</td><td>null</td><td>Databricks-Runtime/15.4.x-scala2.12</td></tr><tr><td>4</td><td>2025-05-23T06:29:21Z</td><td>7363748412033156</td><td>labuser10342477_1747973406@vocareum.com</td><td>WRITE</td><td>Map(mode -> Append, statsOnLoad -> false, partitionBy -> [])</td><td>null</td><td>List(296149350687057)</td><td>0523-041054-ysw25i30</td><td>3</td><td>WriteSerializable</td><td>true</td><td>Map(numFiles -> 1, numOutputRows -> 3, numOutputBytes -> 1140)</td><td>null</td><td>Databricks-Runtime/15.4.x-scala2.12</td></tr><tr><td>3</td><td>2025-05-23T06:29:20Z</td><td>7363748412033156</td><td>labuser10342477_1747973406@vocareum.com</td><td>WRITE</td><td>Map(mode -> Append, statsOnLoad -> false, partitionBy -> [])</td><td>null</td><td>List(296149350687057)</td><td>0523-041054-ysw25i30</td><td>2</td><td>WriteSerializable</td><td>true</td><td>Map(numFiles -> 1, numOutputRows -> 1, numOutputBytes -> 1114)</td><td>null</td><td>Databricks-Runtime/15.4.x-scala2.12</td></tr><tr><td>2</td><td>2025-05-23T06:29:18Z</td><td>7363748412033156</td><td>labuser10342477_1747973406@vocareum.com</td><td>WRITE</td><td>Map(mode -> Append, statsOnLoad -> false, partitionBy -> [])</td><td>null</td><td>List(296149350687057)</td><td>0523-041054-ysw25i30</td><td>1</td><td>WriteSerializable</td><td>true</td><td>Map(numFiles -> 1, numOutputRows -> 1, numOutputBytes -> 1114)</td><td>null</td><td>Databricks-Runtime/15.4.x-scala2.12</td></tr><tr><td>1</td><td>2025-05-23T06:29:16Z</td><td>7363748412033156</td><td>labuser10342477_1747973406@vocareum.com</td><td>WRITE</td><td>Map(mode -> Append, statsOnLoad -> false, partitionBy -> [])</td><td>null</td><td>List(296149350687057)</td><td>0523-041054-ysw25i30</td><td>0</td><td>WriteSerializable</td><td>true</td><td>Map(numFiles -> 1, numOutputRows -> 1, numOutputBytes -> 1106)</td><td>null</td><td>Databricks-Runtime/15.4.x-scala2.12</td></tr><tr><td>0</td><td>2025-05-23T06:29:14Z</td><td>7363748412033156</td><td>labuser10342477_1747973406@vocareum.com</td><td>CREATE TABLE</td><td>Map(partitionBy -> [], clusterBy -> [], description -> null, isManaged -> true, properties -> {\"delta.enableDeletionVectors\":\"true\"}, statsOnLoad -> false)</td><td>null</td><td>List(296149350687057)</td><td>0523-041054-ysw25i30</td><td>null</td><td>WriteSerializable</td><td>true</td><td>Map()</td><td>null</td><td>Databricks-Runtime/15.4.x-scala2.12</td></tr></tbody></table></div>"
      ]
     },
     "metadata": {
      "application/vnd.databricks.v1+output": {
       "addedWidgets": {},
       "aggData": [],
       "aggError": "",
       "aggOverflow": false,
       "aggSchema": [],
       "aggSeriesLimitReached": false,
       "aggType": "",
       "arguments": {},
       "columnCustomDisplayInfos": {},
       "data": [
        [
         11,
         "2025-05-23T06:33:54Z",
         "7363748412033156",
         "labuser10342477_1747973406@vocareum.com",
         "RESTORE",
         {
          "timestamp": null,
          "version": "8"
         },
         null,
         [
          "296149350687057"
         ],
         "0523-041054-ysw25i30",
         10,
         "Serializable",
         false,
         {
          "numOfFilesAfterRestore": "3",
          "numRemovedFiles": "0",
          "numRestoredFiles": "3",
          "removedFilesSize": "0",
          "restoredFilesSize": "3420",
          "tableSizeAfterRestore": "3420"
         },
         null,
         "Databricks-Runtime/15.4.x-scala2.12"
        ],
        [
         10,
         "2025-05-23T06:33:30Z",
         "7363748412033156",
         "labuser10342477_1747973406@vocareum.com",
         "DELETE",
         {
          "predicate": "[\"true\"]"
         },
         null,
         [
          "296149350687057"
         ],
         "0523-041054-ysw25i30",
         9,
         "WriteSerializable",
         false,
         {
          "executionTimeMs": "252",
          "numAddedBytes": "0",
          "numAddedChangeFiles": "0",
          "numAddedFiles": "0",
          "numCopiedRows": "0",
          "numDeletedRows": "4",
          "numDeletionVectorsAdded": "0",
          "numDeletionVectorsRemoved": "0",
          "numDeletionVectorsUpdated": "0",
          "numRemovedBytes": "1153",
          "numRemovedFiles": "1",
          "rewriteTimeMs": "0",
          "scanTimeMs": "249"
         },
         null,
         "Databricks-Runtime/15.4.x-scala2.12"
        ],
        [
         9,
         "2025-05-23T06:29:41Z",
         "7363748412033156",
         "labuser10342477_1747973406@vocareum.com",
         "OPTIMIZE",
         {
          "auto": "true",
          "batchId": "0",
          "clusterBy": "[]",
          "predicate": "[]",
          "zOrderBy": "[]"
         },
         null,
         [
          "296149350687057"
         ],
         "0523-041054-ysw25i30",
         8,
         "SnapshotIsolation",
         false,
         {
          "maxFileSize": "1153",
          "minFileSize": "1153",
          "numAddedBytes": "1153",
          "numAddedFiles": "1",
          "numDeletionVectorsRemoved": "1",
          "numRemovedBytes": "3420",
          "numRemovedFiles": "3",
          "p25FileSize": "1153",
          "p50FileSize": "1153",
          "p75FileSize": "1153"
         },
         null,
         "Databricks-Runtime/15.4.x-scala2.12"
        ],
        [
         8,
         "2025-05-23T06:29:37Z",
         "7363748412033156",
         "labuser10342477_1747973406@vocareum.com",
         "MERGE",
         {
          "matchedPredicates": "[{\"predicate\":\"(type#46965 = update)\",\"actionType\":\"update\"},{\"predicate\":\"(type#46965 = delete)\",\"actionType\":\"delete\"}]",
          "notMatchedBySourcePredicates": "[]",
          "notMatchedPredicates": "[{\"predicate\":\"(type#46965 = insert)\",\"actionType\":\"insert\"}]",
          "predicate": "[\"(id#47195 = id#46962)\"]",
          "statsOnLoad": "false"
         },
         null,
         [
          "296149350687057"
         ],
         "0523-041054-ysw25i30",
         7,
         "WriteSerializable",
         false,
         {
          "executionTimeMs": "3642",
          "materializeSourceTimeMs": "140",
          "numOutputRows": "2",
          "numSourceRows": "4",
          "numTargetBytesAdded": "2228",
          "numTargetBytesRemoved": "0",
          "numTargetChangeFilesAdded": "0",
          "numTargetDeletionVectorsAdded": "1",
          "numTargetDeletionVectorsRemoved": "1",
          "numTargetDeletionVectorsUpdated": "1",
          "numTargetFilesAdded": "2",
          "numTargetFilesRemoved": "0",
          "numTargetRowsCopied": "0",
          "numTargetRowsDeleted": "1",
          "numTargetRowsInserted": "1",
          "numTargetRowsMatchedDeleted": "1",
          "numTargetRowsMatchedUpdated": "1",
          "numTargetRowsNotMatchedBySourceDeleted": "0",
          "numTargetRowsNotMatchedBySourceUpdated": "0",
          "numTargetRowsUpdated": "1",
          "rewriteTimeMs": "2031",
          "scanTimeMs": "1432"
         },
         null,
         "Databricks-Runtime/15.4.x-scala2.12"
        ],
        [
         7,
         "2025-05-23T06:29:31Z",
         "7363748412033156",
         "labuser10342477_1747973406@vocareum.com",
         "OPTIMIZE",
         {
          "auto": "true",
          "batchId": "0",
          "clusterBy": "[]",
          "predicate": "[]",
          "zOrderBy": "[]"
         },
         null,
         [
          "296149350687057"
         ],
         "0523-041054-ysw25i30",
         5,
         "SnapshotIsolation",
         false,
         {
          "conflictDetectionTimeMs": "415",
          "maxFileSize": "1192",
          "minFileSize": "1192",
          "numAddedBytes": "1192",
          "numAddedFiles": "1",
          "numDeletionVectorsRemoved": "1",
          "numRemovedBytes": "5602",
          "numRemovedFiles": "5",
          "p25FileSize": "1192",
          "p50FileSize": "1192",
          "p75FileSize": "1192"
         },
         null,
         "Databricks-Runtime/15.4.x-scala2.12"
        ],
        [
         6,
         "2025-05-23T06:29:29Z",
         "7363748412033156",
         "labuser10342477_1747973406@vocareum.com",
         "DELETE",
         {
          "predicate": "[\"(value#45631 > 6.0)\"]"
         },
         null,
         [
          "296149350687057"
         ],
         "0523-041054-ysw25i30",
         5,
         "WriteSerializable",
         false,
         {
          "executionTimeMs": "1923",
          "numAddedBytes": "0",
          "numAddedChangeFiles": "0",
          "numAddedFiles": "0",
          "numCopiedRows": "0",
          "numDeletedRows": "2",
          "numDeletionVectorsAdded": "1",
          "numDeletionVectorsRemoved": "1",
          "numDeletionVectorsUpdated": "0",
          "numRemovedBytes": "1140",
          "numRemovedFiles": "1",
          "rewriteTimeMs": "998",
          "scanTimeMs": "919"
         },
         null,
         "Databricks-Runtime/15.4.x-scala2.12"
        ],
        [
         5,
         "2025-05-23T06:29:25Z",
         "7363748412033156",
         "labuser10342477_1747973406@vocareum.com",
         "UPDATE",
         {
          "predicate": "[\"StartsWith(name#44611, T)\"]"
         },
         null,
         [
          "296149350687057"
         ],
         "0523-041054-ysw25i30",
         4,
         "WriteSerializable",
         false,
         {
          "executionTimeMs": "2575",
          "numAddedBytes": "1128",
          "numAddedChangeFiles": "0",
          "numAddedFiles": "1",
          "numCopiedRows": "0",
          "numDeletionVectorsAdded": "1",
          "numDeletionVectorsRemoved": "0",
          "numDeletionVectorsUpdated": "0",
          "numRemovedBytes": "0",
          "numRemovedFiles": "0",
          "numUpdatedRows": "2",
          "rewriteTimeMs": "1367",
          "scanTimeMs": "1191"
         },
         null,
         "Databricks-Runtime/15.4.x-scala2.12"
        ],
        [
         4,
         "2025-05-23T06:29:21Z",
         "7363748412033156",
         "labuser10342477_1747973406@vocareum.com",
         "WRITE",
         {
          "mode": "Append",
          "partitionBy": "[]",
          "statsOnLoad": "false"
         },
         null,
         [
          "296149350687057"
         ],
         "0523-041054-ysw25i30",
         3,
         "WriteSerializable",
         true,
         {
          "numFiles": "1",
          "numOutputBytes": "1140",
          "numOutputRows": "3"
         },
         null,
         "Databricks-Runtime/15.4.x-scala2.12"
        ],
        [
         3,
         "2025-05-23T06:29:20Z",
         "7363748412033156",
         "labuser10342477_1747973406@vocareum.com",
         "WRITE",
         {
          "mode": "Append",
          "partitionBy": "[]",
          "statsOnLoad": "false"
         },
         null,
         [
          "296149350687057"
         ],
         "0523-041054-ysw25i30",
         2,
         "WriteSerializable",
         true,
         {
          "numFiles": "1",
          "numOutputBytes": "1114",
          "numOutputRows": "1"
         },
         null,
         "Databricks-Runtime/15.4.x-scala2.12"
        ],
        [
         2,
         "2025-05-23T06:29:18Z",
         "7363748412033156",
         "labuser10342477_1747973406@vocareum.com",
         "WRITE",
         {
          "mode": "Append",
          "partitionBy": "[]",
          "statsOnLoad": "false"
         },
         null,
         [
          "296149350687057"
         ],
         "0523-041054-ysw25i30",
         1,
         "WriteSerializable",
         true,
         {
          "numFiles": "1",
          "numOutputBytes": "1114",
          "numOutputRows": "1"
         },
         null,
         "Databricks-Runtime/15.4.x-scala2.12"
        ],
        [
         1,
         "2025-05-23T06:29:16Z",
         "7363748412033156",
         "labuser10342477_1747973406@vocareum.com",
         "WRITE",
         {
          "mode": "Append",
          "partitionBy": "[]",
          "statsOnLoad": "false"
         },
         null,
         [
          "296149350687057"
         ],
         "0523-041054-ysw25i30",
         0,
         "WriteSerializable",
         true,
         {
          "numFiles": "1",
          "numOutputBytes": "1106",
          "numOutputRows": "1"
         },
         null,
         "Databricks-Runtime/15.4.x-scala2.12"
        ],
        [
         0,
         "2025-05-23T06:29:14Z",
         "7363748412033156",
         "labuser10342477_1747973406@vocareum.com",
         "CREATE TABLE",
         {
          "clusterBy": "[]",
          "description": null,
          "isManaged": "true",
          "partitionBy": "[]",
          "properties": "{\"delta.enableDeletionVectors\":\"true\"}",
          "statsOnLoad": "false"
         },
         null,
         [
          "296149350687057"
         ],
         "0523-041054-ysw25i30",
         null,
         "WriteSerializable",
         true,
         {},
         null,
         "Databricks-Runtime/15.4.x-scala2.12"
        ]
       ],
       "datasetInfos": [],
       "dbfsResultPath": null,
       "isJsonSchema": true,
       "metadata": {
        "isDbfsCommandResult": false
       },
       "overflow": false,
       "plotOptions": {
        "customPlotOptions": {},
        "displayType": "table",
        "pivotAggregation": null,
        "pivotColumns": null,
        "xColumns": null,
        "yColumns": null
       },
       "removedWidgets": [],
       "schema": [
        {
         "metadata": "{}",
         "name": "version",
         "type": "\"long\""
        },
        {
         "metadata": "{}",
         "name": "timestamp",
         "type": "\"timestamp\""
        },
        {
         "metadata": "{}",
         "name": "userId",
         "type": "\"string\""
        },
        {
         "metadata": "{}",
         "name": "userName",
         "type": "\"string\""
        },
        {
         "metadata": "{}",
         "name": "operation",
         "type": "\"string\""
        },
        {
         "metadata": "{}",
         "name": "operationParameters",
         "type": "{\"type\":\"map\",\"keyType\":\"string\",\"valueType\":\"string\",\"valueContainsNull\":true}"
        },
        {
         "metadata": "{}",
         "name": "job",
         "type": "{\"type\":\"struct\",\"fields\":[{\"name\":\"jobId\",\"type\":\"string\",\"nullable\":true,\"metadata\":{}},{\"name\":\"jobName\",\"type\":\"string\",\"nullable\":true,\"metadata\":{}},{\"name\":\"jobRunId\",\"type\":\"string\",\"nullable\":true,\"metadata\":{}},{\"name\":\"runId\",\"type\":\"string\",\"nullable\":true,\"metadata\":{}},{\"name\":\"jobOwnerId\",\"type\":\"string\",\"nullable\":true,\"metadata\":{}},{\"name\":\"triggerType\",\"type\":\"string\",\"nullable\":true,\"metadata\":{}}]}"
        },
        {
         "metadata": "{}",
         "name": "notebook",
         "type": "{\"type\":\"struct\",\"fields\":[{\"name\":\"notebookId\",\"type\":\"string\",\"nullable\":true,\"metadata\":{}}]}"
        },
        {
         "metadata": "{}",
         "name": "clusterId",
         "type": "\"string\""
        },
        {
         "metadata": "{}",
         "name": "readVersion",
         "type": "\"long\""
        },
        {
         "metadata": "{}",
         "name": "isolationLevel",
         "type": "\"string\""
        },
        {
         "metadata": "{}",
         "name": "isBlindAppend",
         "type": "\"boolean\""
        },
        {
         "metadata": "{}",
         "name": "operationMetrics",
         "type": "{\"type\":\"map\",\"keyType\":\"string\",\"valueType\":\"string\",\"valueContainsNull\":true}"
        },
        {
         "metadata": "{}",
         "name": "userMetadata",
         "type": "\"string\""
        },
        {
         "metadata": "{}",
         "name": "engineInfo",
         "type": "\"string\""
        }
       ],
       "type": "table"
      }
     },
     "output_type": "display_data"
    }
   ],
   "source": [
    "DESCRIBE HISTORY students;"
   ]
  },
  {
   "cell_type": "markdown",
   "metadata": {
    "application/vnd.databricks.v1+cell": {
     "cellMetadata": {},
     "inputWidgets": {},
     "nuid": "a316ab55-58b4-44e4-a6c6-f1db010a369a",
     "showTitle": false,
     "tableResultSettingsMap": {},
     "title": ""
    }
   },
   "source": [
    "## Predictive Optimization\n",
    "Predictive Optimization is a feature that can be enabled that takes away the necessity for manually performing **`OPTIMIZE`** and **`VACUUM`**.\n",
    "\n",
    "With predictive optimization enabled, Databricks automatically identifies tables that would benefit from maintenance operations and runs them for the user. Maintenance operations are only run as necessary, eliminating both unnecessary runs for maintenance operations and the burden associated with tracking and troubleshooting performance.\n",
    "\n",
    "You must enable predictive optimization at the account level. The feature is inherited by all lower-level objects, but it can be enabled/disabled on those objects, as needed.\n",
    "\n",
    "#### View if Predictive Optimization is Enabled:\n",
    "To check whether Predictive Optimization is enabled on a catalog, schema or table: \n",
    "```\n",
    "DESCRIBE (CATALOG | SCHEMA | TABLE) EXTENDED name\n",
    "```\n",
    " \n",
    "\n",
    "**View Catalog**\n",
    "\n",
    "`DESCRIBE CATALOG EXTENDED dbacademy;`\n",
    "\n",
    "![Catalog PO Check](./Includes/images/po_enabled_catalog.png)\n",
    "\n",
    "**View Table**\n",
    "\n",
    "`DESCRIBE TABLE EXTENDED events;`\n",
    "\n",
    "![Table PO Check](./Includes/images/po_enabled_table.png)\n",
    "\n",
    "<br></br>\n",
    "\n",
    "#### Enabling Predictive Optimization:\n",
    "- To enable Predictive Optimization view the [Enable predictive optimization](https://docs.databricks.com/en/optimizations/predictive-optimization.html) documentation.\n",
    "```\n",
    "ALTER CATALOG [catalog_name] {ENABLE | DISABLE} PREDICTIVE OPTIMIZATION;\n",
    "ALTER {SCHEMA | DATABASE} [schema_name] {ENABLE | DISABLE} PREDICTIVE OPTIMIZATION;\n",
    "ALTER TABLE [table_name] {ENABLE | DISABLE} PREDICTIVE OPTIMIZATION;\n",
    "```\n"
   ]
  },
  {
   "cell_type": "markdown",
   "metadata": {
    "application/vnd.databricks.v1+cell": {
     "cellMetadata": {},
     "inputWidgets": {},
     "nuid": "6d4700d3-855e-4e0d-8225-8a6386e546f6",
     "showTitle": false,
     "tableResultSettingsMap": {},
     "title": ""
    }
   },
   "source": [
    "Run the `DESCRIBE CATALOG EXTENDED` statement below. Is Predictive Optimization turned on at the catalog level?"
   ]
  },
  {
   "cell_type": "code",
   "execution_count": 0,
   "metadata": {
    "application/vnd.databricks.v1+cell": {
     "cellMetadata": {
      "byteLimit": 2048000,
      "rowLimit": 10000
     },
     "inputWidgets": {},
     "nuid": "549bd21b-2768-4aa9-bc17-b46730f2e0f2",
     "showTitle": false,
     "tableResultSettingsMap": {},
     "title": ""
    }
   },
   "outputs": [
    {
     "output_type": "display_data",
     "data": {
      "text/html": [
       "<style scoped>\n",
       "  .table-result-container {\n",
       "    max-height: 300px;\n",
       "    overflow: auto;\n",
       "  }\n",
       "  table, th, td {\n",
       "    border: 1px solid black;\n",
       "    border-collapse: collapse;\n",
       "  }\n",
       "  th, td {\n",
       "    padding: 5px;\n",
       "  }\n",
       "  th {\n",
       "    text-align: left;\n",
       "  }\n",
       "</style><div class='table-result-container'><table class='table-result'><thead style='background-color: white'><tr><th>info_name</th><th>info_value</th></tr></thead><tbody><tr><td>Catalog Name</td><td>dbacademy</td></tr><tr><td>Comment</td><td></td></tr><tr><td>Owner</td><td>metastore_admins</td></tr><tr><td>Catalog Type</td><td>Regular</td></tr><tr><td>Created By</td><td>9556a37f-7dc0-4b5f-849c-babbde9b34af</td></tr><tr><td>Created At</td><td>2024-12-03 AD at 09:39:25 UTC</td></tr><tr><td>Updated By</td><td>9556a37f-7dc0-4b5f-849c-babbde9b34af</td></tr><tr><td>Updated At</td><td>2025-05-19 AD at 05:52:01 UTC</td></tr><tr><td>Predictive Optimization</td><td>ENABLE (inherited from METASTORE 3665583-us-west-2)</td></tr></tbody></table></div>"
      ]
     },
     "metadata": {
      "application/vnd.databricks.v1+output": {
       "addedWidgets": {},
       "aggData": [],
       "aggError": "",
       "aggOverflow": false,
       "aggSchema": [],
       "aggSeriesLimitReached": false,
       "aggType": "",
       "arguments": {},
       "columnCustomDisplayInfos": {},
       "data": [
        [
         "Catalog Name",
         "dbacademy"
        ],
        [
         "Comment",
         ""
        ],
        [
         "Owner",
         "metastore_admins"
        ],
        [
         "Catalog Type",
         "Regular"
        ],
        [
         "Created By",
         "9556a37f-7dc0-4b5f-849c-babbde9b34af"
        ],
        [
         "Created At",
         "2024-12-03 AD at 09:39:25 UTC"
        ],
        [
         "Updated By",
         "9556a37f-7dc0-4b5f-849c-babbde9b34af"
        ],
        [
         "Updated At",
         "2025-05-19 AD at 05:52:01 UTC"
        ],
        [
         "Predictive Optimization",
         "ENABLE (inherited from METASTORE 3665583-us-west-2)"
        ]
       ],
       "datasetInfos": [],
       "dbfsResultPath": null,
       "isJsonSchema": true,
       "metadata": {
        "isDbfsCommandResult": false
       },
       "overflow": false,
       "plotOptions": {
        "customPlotOptions": {},
        "displayType": "table",
        "pivotAggregation": null,
        "pivotColumns": null,
        "xColumns": null,
        "yColumns": null
       },
       "removedWidgets": [],
       "schema": [
        {
         "metadata": "{\"comment\":\"name of the catalog info\"}",
         "name": "info_name",
         "type": "\"string\""
        },
        {
         "metadata": "{\"comment\":\"value of the catalog info\"}",
         "name": "info_value",
         "type": "\"string\""
        }
       ],
       "type": "table"
      }
     },
     "output_type": "display_data"
    }
   ],
   "source": [
    "DESCRIBE CATALOG EXTENDED dbacademy;"
   ]
  },
  {
   "cell_type": "markdown",
   "metadata": {
    "application/vnd.databricks.v1+cell": {
     "cellMetadata": {},
     "inputWidgets": {},
     "nuid": "7a1242d0-c5e2-49e8-a22b-fef6ff0f375b",
     "showTitle": false,
     "tableResultSettingsMap": {},
     "title": ""
    }
   },
   "source": [
    "Run the `DESCRIBE TABLE EXTENDED` statement below. Is Predictive Optimization turned on for the **events** table?"
   ]
  },
  {
   "cell_type": "code",
   "execution_count": 0,
   "metadata": {
    "application/vnd.databricks.v1+cell": {
     "cellMetadata": {
      "byteLimit": 2048000,
      "rowLimit": 10000
     },
     "inputWidgets": {},
     "nuid": "fcdd6bcd-5187-418c-96c4-322db7ecf299",
     "showTitle": false,
     "tableResultSettingsMap": {},
     "title": ""
    }
   },
   "outputs": [
    {
     "output_type": "display_data",
     "data": {
      "text/html": [
       "<style scoped>\n",
       "  .table-result-container {\n",
       "    max-height: 300px;\n",
       "    overflow: auto;\n",
       "  }\n",
       "  table, th, td {\n",
       "    border: 1px solid black;\n",
       "    border-collapse: collapse;\n",
       "  }\n",
       "  th, td {\n",
       "    padding: 5px;\n",
       "  }\n",
       "  th {\n",
       "    text-align: left;\n",
       "  }\n",
       "</style><div class='table-result-container'><table class='table-result'><thead style='background-color: white'><tr><th>col_name</th><th>data_type</th><th>comment</th></tr></thead><tbody><tr><td>device</td><td>string</td><td>null</td></tr><tr><td>ecommerce</td><td>struct<purchase_revenue_in_usd:double,total_item_quantity:bigint,unique_items:bigint></td><td>null</td></tr><tr><td>event_name</td><td>string</td><td>null</td></tr><tr><td>event_previous_timestamp</td><td>bigint</td><td>null</td></tr><tr><td>event_timestamp</td><td>bigint</td><td>null</td></tr><tr><td>geo</td><td>struct<city:string,state:string></td><td>null</td></tr><tr><td>items</td><td>array<struct<coupon:string,item_id:string,item_name:string,item_revenue_in_usd:double,price_in_usd:double,quantity:bigint>></td><td>null</td></tr><tr><td>traffic_source</td><td>string</td><td>null</td></tr><tr><td>user_first_touch_timestamp</td><td>bigint</td><td>null</td></tr><tr><td>user_id</td><td>string</td><td>null</td></tr><tr><td># Clustering Information</td><td></td><td></td></tr><tr><td># col_name</td><td>data_type</td><td>comment</td></tr><tr><td>user_id</td><td>string</td><td>null</td></tr><tr><td></td><td></td><td></td></tr><tr><td># Delta Statistics Columns</td><td></td><td></td></tr><tr><td>Column Names</td><td>geo.city, geo.state, traffic_source, items, ecommerce.purchase_revenue_in_usd, ecommerce.total_item_quantity, ecommerce.unique_items, event_name, event_timestamp, user_id, event_previous_timestamp, user_first_touch_timestamp, device</td><td></td></tr><tr><td>Column Selection Method</td><td>first-32</td><td></td></tr><tr><td></td><td></td><td></td></tr><tr><td># Detailed Table Information</td><td></td><td></td></tr><tr><td>Catalog</td><td>dbacademy</td><td></td></tr><tr><td>Database</td><td>labuser10342477_1747973406</td><td></td></tr><tr><td>Table</td><td>events</td><td></td></tr><tr><td>Created Time</td><td>Fri May 23 06:22:09 UTC 2025</td><td></td></tr><tr><td>Last Access</td><td>UNKNOWN</td><td></td></tr><tr><td>Created By</td><td>Spark </td><td></td></tr><tr><td>Type</td><td>MANAGED</td><td></td></tr><tr><td>Location</td><td>s3://unity-catalogs-us-west-2/metastore/3665583-root/8590962d-5b67-4403-8302-d03ddc277141/tables/c811de46-d215-4fe1-8131-00df8034968b</td><td></td></tr><tr><td>Provider</td><td>delta</td><td></td></tr><tr><td>Owner</td><td>labuser10342477_1747973406@vocareum.com</td><td></td></tr><tr><td>Is_managed_location</td><td>true</td><td></td></tr><tr><td>Predictive Optimization</td><td>ENABLE (inherited from METASTORE 3665583-us-west-2)</td><td></td></tr><tr><td>Table Properties</td><td>[clusteringColumns=*********(redacted),delta.checkpointPolicy=v2,delta.enableDeletionVectors=true,delta.enableRowTracking=true,delta.feature.appendOnly=supported,delta.feature.clustering=supported,delta.feature.deletionVectors=supported,delta.feature.domainMetadata=supported,delta.feature.invariants=supported,delta.feature.rowTracking=supported,delta.feature.v2Checkpoint=supported,delta.minReaderVersion=3,delta.minWriterVersion=7,delta.rowTracking.materializedRowCommitVersionColumnName=_row-commit-version-col-7c8c18d5-8ed4-49a8-9cbe-d001cbcb3988,delta.rowTracking.materializedRowIdColumnName=_row-id-col-4c2a84b5-16d6-494a-bbe7-339d8e309105]</td><td></td></tr></tbody></table></div>"
      ]
     },
     "metadata": {
      "application/vnd.databricks.v1+output": {
       "addedWidgets": {},
       "aggData": [],
       "aggError": "",
       "aggOverflow": false,
       "aggSchema": [],
       "aggSeriesLimitReached": false,
       "aggType": "",
       "arguments": {},
       "columnCustomDisplayInfos": {},
       "data": [
        [
         "device",
         "string",
         null
        ],
        [
         "ecommerce",
         "struct<purchase_revenue_in_usd:double,total_item_quantity:bigint,unique_items:bigint>",
         null
        ],
        [
         "event_name",
         "string",
         null
        ],
        [
         "event_previous_timestamp",
         "bigint",
         null
        ],
        [
         "event_timestamp",
         "bigint",
         null
        ],
        [
         "geo",
         "struct<city:string,state:string>",
         null
        ],
        [
         "items",
         "array<struct<coupon:string,item_id:string,item_name:string,item_revenue_in_usd:double,price_in_usd:double,quantity:bigint>>",
         null
        ],
        [
         "traffic_source",
         "string",
         null
        ],
        [
         "user_first_touch_timestamp",
         "bigint",
         null
        ],
        [
         "user_id",
         "string",
         null
        ],
        [
         "# Clustering Information",
         "",
         ""
        ],
        [
         "# col_name",
         "data_type",
         "comment"
        ],
        [
         "user_id",
         "string",
         null
        ],
        [
         "",
         "",
         ""
        ],
        [
         "# Delta Statistics Columns",
         "",
         ""
        ],
        [
         "Column Names",
         "geo.city, geo.state, traffic_source, items, ecommerce.purchase_revenue_in_usd, ecommerce.total_item_quantity, ecommerce.unique_items, event_name, event_timestamp, user_id, event_previous_timestamp, user_first_touch_timestamp, device",
         ""
        ],
        [
         "Column Selection Method",
         "first-32",
         ""
        ],
        [
         "",
         "",
         ""
        ],
        [
         "# Detailed Table Information",
         "",
         ""
        ],
        [
         "Catalog",
         "dbacademy",
         ""
        ],
        [
         "Database",
         "labuser10342477_1747973406",
         ""
        ],
        [
         "Table",
         "events",
         ""
        ],
        [
         "Created Time",
         "Fri May 23 06:22:09 UTC 2025",
         ""
        ],
        [
         "Last Access",
         "UNKNOWN",
         ""
        ],
        [
         "Created By",
         "Spark ",
         ""
        ],
        [
         "Type",
         "MANAGED",
         ""
        ],
        [
         "Location",
         "s3://unity-catalogs-us-west-2/metastore/3665583-root/8590962d-5b67-4403-8302-d03ddc277141/tables/c811de46-d215-4fe1-8131-00df8034968b",
         ""
        ],
        [
         "Provider",
         "delta",
         ""
        ],
        [
         "Owner",
         "labuser10342477_1747973406@vocareum.com",
         ""
        ],
        [
         "Is_managed_location",
         "true",
         ""
        ],
        [
         "Predictive Optimization",
         "ENABLE (inherited from METASTORE 3665583-us-west-2)",
         ""
        ],
        [
         "Table Properties",
         "[clusteringColumns=*********(redacted),delta.checkpointPolicy=v2,delta.enableDeletionVectors=true,delta.enableRowTracking=true,delta.feature.appendOnly=supported,delta.feature.clustering=supported,delta.feature.deletionVectors=supported,delta.feature.domainMetadata=supported,delta.feature.invariants=supported,delta.feature.rowTracking=supported,delta.feature.v2Checkpoint=supported,delta.minReaderVersion=3,delta.minWriterVersion=7,delta.rowTracking.materializedRowCommitVersionColumnName=_row-commit-version-col-7c8c18d5-8ed4-49a8-9cbe-d001cbcb3988,delta.rowTracking.materializedRowIdColumnName=_row-id-col-4c2a84b5-16d6-494a-bbe7-339d8e309105]",
         ""
        ]
       ],
       "datasetInfos": [],
       "dbfsResultPath": null,
       "isJsonSchema": true,
       "metadata": {
        "isDbfsCommandResult": false
       },
       "overflow": false,
       "plotOptions": {
        "customPlotOptions": {},
        "displayType": "table",
        "pivotAggregation": null,
        "pivotColumns": null,
        "xColumns": null,
        "yColumns": null
       },
       "removedWidgets": [],
       "schema": [
        {
         "metadata": "{\"comment\":\"name of the column\"}",
         "name": "col_name",
         "type": "\"string\""
        },
        {
         "metadata": "{\"comment\":\"data type of the column\"}",
         "name": "data_type",
         "type": "\"string\""
        },
        {
         "metadata": "{\"comment\":\"comment of the column\"}",
         "name": "comment",
         "type": "\"string\""
        }
       ],
       "type": "table"
      }
     },
     "output_type": "display_data"
    }
   ],
   "source": [
    "DESCRIBE TABLE EXTENDED events;"
   ]
  },
  {
   "cell_type": "markdown",
   "metadata": {
    "application/vnd.databricks.v1+cell": {
     "cellMetadata": {},
     "inputWidgets": {},
     "nuid": "4bf47e5a-3243-431f-a850-844ddfd9bcac",
     "showTitle": false,
     "tableResultSettingsMap": {},
     "title": ""
    }
   },
   "source": [
    "\n",
    "&copy; 2025 Databricks, Inc. All rights reserved. Apache, Apache Spark, Spark, the Spark Logo, Apache Iceberg, Iceberg, and the Apache Iceberg logo are trademarks of the <a href=\"https://www.apache.org/\">Apache Software Foundation</a>.<br/>\n",
    "<br/><a href=\"https://databricks.com/privacy-policy\">Privacy Policy</a> | \n",
    "<a href=\"https://databricks.com/terms-of-use\">Terms of Use</a> | \n",
    "<a href=\"https://help.databricks.com/\">Support</a>"
   ]
  }
 ],
 "metadata": {
  "application/vnd.databricks.v1+notebook": {
   "computePreferences": null,
   "dashboards": [],
   "environmentMetadata": null,
   "inputWidgetPreferences": null,
   "language": "sql",
   "notebookMetadata": {
    "pythonIndentUnit": 4
   },
   "notebookName": "7 - Advanced Delta Lake Features",
   "widgets": {}
  },
  "language_info": {
   "name": "sql"
  }
 },
 "nbformat": 4,
 "nbformat_minor": 0
}